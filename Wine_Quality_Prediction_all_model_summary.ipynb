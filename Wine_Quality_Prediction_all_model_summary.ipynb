{
 "cells": [
  {
   "cell_type": "code",
   "execution_count": 1,
   "metadata": {
    "id": "LZbqKzJACHLK"
   },
   "outputs": [],
   "source": [
    "import numpy as np\n",
    "import pandas as pd\n",
    "import matplotlib.pyplot as plt\n",
    "%matplotlib inline\n",
    "import seaborn as sns\n",
    "from sklearn.linear_model import LogisticRegression\n",
    "from sklearn.naive_bayes import GaussianNB\n",
    "from sklearn.tree import DecisionTreeClassifier\n",
    "from sklearn.preprocessing import StandardScaler\n",
    "from sklearn.model_selection import KFold,cross_val_score,GridSearchCV"
   ]
  },
  {
   "cell_type": "code",
   "execution_count": 2,
   "metadata": {
    "id": "qFr3VF5au_T5"
   },
   "outputs": [],
   "source": [
    "import warnings\n",
    "warnings.filterwarnings('ignore')"
   ]
  },
  {
   "cell_type": "code",
   "execution_count": 3,
   "metadata": {
    "colab": {
     "base_uri": "https://localhost:8080/"
    },
    "executionInfo": {
     "elapsed": 13,
     "status": "ok",
     "timestamp": 1631002107013,
     "user": {
      "displayName": "Mahesh Anand",
      "photoUrl": "https://lh3.googleusercontent.com/a-/AOh14Ghy47CXBCGfpGm71ElmYPDEY5c3AQB5tdq4ROpemw=s64",
      "userId": "06788086636039591358"
     },
     "user_tz": -330
    },
    "id": "8y8V4GbSjhEi",
    "outputId": "da1ca482-288d-4afe-b913-c6e948a89534"
   },
   "outputs": [],
   "source": [
    "#from google.colab import drive\n",
    "#drive.mount('/content/drive')"
   ]
  },
  {
   "cell_type": "code",
   "execution_count": 4,
   "metadata": {
    "colab": {
     "base_uri": "https://localhost:8080/",
     "height": 224
    },
    "executionInfo": {
     "elapsed": 489,
     "status": "ok",
     "timestamp": 1631002110121,
     "user": {
      "displayName": "Mahesh Anand",
      "photoUrl": "https://lh3.googleusercontent.com/a-/AOh14Ghy47CXBCGfpGm71ElmYPDEY5c3AQB5tdq4ROpemw=s64",
      "userId": "06788086636039591358"
     },
     "user_tz": -330
    },
    "id": "hoXMFxqzCHLU",
    "outputId": "74f99b17-b9d0-493c-a119-794ddb08df6f"
   },
   "outputs": [
    {
     "data": {
      "text/html": [
       "<div>\n",
       "<style scoped>\n",
       "    .dataframe tbody tr th:only-of-type {\n",
       "        vertical-align: middle;\n",
       "    }\n",
       "\n",
       "    .dataframe tbody tr th {\n",
       "        vertical-align: top;\n",
       "    }\n",
       "\n",
       "    .dataframe thead th {\n",
       "        text-align: right;\n",
       "    }\n",
       "</style>\n",
       "<table border=\"1\" class=\"dataframe\">\n",
       "  <thead>\n",
       "    <tr style=\"text-align: right;\">\n",
       "      <th></th>\n",
       "      <th>Cultivator</th>\n",
       "      <th>Alchol</th>\n",
       "      <th>Malic_Acid</th>\n",
       "      <th>Ash</th>\n",
       "      <th>Alcalinity_of_Ash</th>\n",
       "      <th>Magnesium</th>\n",
       "      <th>Total_phenols</th>\n",
       "      <th>Flavanoids</th>\n",
       "      <th>Nonflavanoid_phenols</th>\n",
       "      <th>Proanthocyanins</th>\n",
       "      <th>Color_intensity</th>\n",
       "      <th>Hue</th>\n",
       "      <th>OD280</th>\n",
       "      <th>Proline</th>\n",
       "    </tr>\n",
       "  </thead>\n",
       "  <tbody>\n",
       "    <tr>\n",
       "      <th>0</th>\n",
       "      <td>1</td>\n",
       "      <td>14.23</td>\n",
       "      <td>1.71</td>\n",
       "      <td>2.43</td>\n",
       "      <td>15.6</td>\n",
       "      <td>127</td>\n",
       "      <td>2.80</td>\n",
       "      <td>3.06</td>\n",
       "      <td>0.28</td>\n",
       "      <td>2.29</td>\n",
       "      <td>5.64</td>\n",
       "      <td>1.04</td>\n",
       "      <td>3.92</td>\n",
       "      <td>1065</td>\n",
       "    </tr>\n",
       "    <tr>\n",
       "      <th>1</th>\n",
       "      <td>1</td>\n",
       "      <td>13.20</td>\n",
       "      <td>1.78</td>\n",
       "      <td>2.14</td>\n",
       "      <td>11.2</td>\n",
       "      <td>100</td>\n",
       "      <td>2.65</td>\n",
       "      <td>2.76</td>\n",
       "      <td>0.26</td>\n",
       "      <td>1.28</td>\n",
       "      <td>4.38</td>\n",
       "      <td>1.05</td>\n",
       "      <td>3.40</td>\n",
       "      <td>1050</td>\n",
       "    </tr>\n",
       "    <tr>\n",
       "      <th>2</th>\n",
       "      <td>1</td>\n",
       "      <td>13.16</td>\n",
       "      <td>2.36</td>\n",
       "      <td>2.67</td>\n",
       "      <td>18.6</td>\n",
       "      <td>101</td>\n",
       "      <td>2.80</td>\n",
       "      <td>3.24</td>\n",
       "      <td>0.30</td>\n",
       "      <td>2.81</td>\n",
       "      <td>5.68</td>\n",
       "      <td>1.03</td>\n",
       "      <td>3.17</td>\n",
       "      <td>1185</td>\n",
       "    </tr>\n",
       "    <tr>\n",
       "      <th>3</th>\n",
       "      <td>1</td>\n",
       "      <td>14.37</td>\n",
       "      <td>1.95</td>\n",
       "      <td>2.50</td>\n",
       "      <td>16.8</td>\n",
       "      <td>113</td>\n",
       "      <td>3.85</td>\n",
       "      <td>3.49</td>\n",
       "      <td>0.24</td>\n",
       "      <td>2.18</td>\n",
       "      <td>7.80</td>\n",
       "      <td>0.86</td>\n",
       "      <td>3.45</td>\n",
       "      <td>1480</td>\n",
       "    </tr>\n",
       "    <tr>\n",
       "      <th>4</th>\n",
       "      <td>1</td>\n",
       "      <td>13.24</td>\n",
       "      <td>2.59</td>\n",
       "      <td>2.87</td>\n",
       "      <td>21.0</td>\n",
       "      <td>118</td>\n",
       "      <td>2.80</td>\n",
       "      <td>2.69</td>\n",
       "      <td>0.39</td>\n",
       "      <td>1.82</td>\n",
       "      <td>4.32</td>\n",
       "      <td>1.04</td>\n",
       "      <td>2.93</td>\n",
       "      <td>735</td>\n",
       "    </tr>\n",
       "  </tbody>\n",
       "</table>\n",
       "</div>"
      ],
      "text/plain": [
       "   Cultivator  Alchol  Malic_Acid   Ash  Alcalinity_of_Ash  Magnesium  \\\n",
       "0           1   14.23        1.71  2.43               15.6        127   \n",
       "1           1   13.20        1.78  2.14               11.2        100   \n",
       "2           1   13.16        2.36  2.67               18.6        101   \n",
       "3           1   14.37        1.95  2.50               16.8        113   \n",
       "4           1   13.24        2.59  2.87               21.0        118   \n",
       "\n",
       "   Total_phenols  Flavanoids  Nonflavanoid_phenols  Proanthocyanins  \\\n",
       "0           2.80        3.06                  0.28             2.29   \n",
       "1           2.65        2.76                  0.26             1.28   \n",
       "2           2.80        3.24                  0.30             2.81   \n",
       "3           3.85        3.49                  0.24             2.18   \n",
       "4           2.80        2.69                  0.39             1.82   \n",
       "\n",
       "   Color_intensity   Hue  OD280  Proline  \n",
       "0             5.64  1.04   3.92     1065  \n",
       "1             4.38  1.05   3.40     1050  \n",
       "2             5.68  1.03   3.17     1185  \n",
       "3             7.80  0.86   3.45     1480  \n",
       "4             4.32  1.04   2.93      735  "
      ]
     },
     "execution_count": 4,
     "metadata": {},
     "output_type": "execute_result"
    }
   ],
   "source": [
    "A=pd.read_csv('wine.xls',names = \n",
    "              [\"Cultivator\", \"Alchol\", \"Malic_Acid\", \"Ash\", \"Alcalinity_of_Ash\", \n",
    "             \"Magnesium\", \"Total_phenols\", \"Flavanoids\", \"Nonflavanoid_phenols\", \n",
    "             \"Proanthocyanins\", \"Color_intensity\", \"Hue\", \"OD280\", \"Proline\"])\n",
    "A.head()"
   ]
  },
  {
   "cell_type": "code",
   "execution_count": 100,
   "metadata": {},
   "outputs": [
    {
     "data": {
      "text/plain": [
       "2    71\n",
       "1    59\n",
       "3    48\n",
       "Name: Cultivator, dtype: int64"
      ]
     },
     "execution_count": 100,
     "metadata": {},
     "output_type": "execute_result"
    }
   ],
   "source": [
    "A.Cultivator.value_counts()"
   ]
  },
  {
   "cell_type": "code",
   "execution_count": 5,
   "metadata": {
    "colab": {
     "base_uri": "https://localhost:8080/",
     "height": 503
    },
    "executionInfo": {
     "elapsed": 336,
     "status": "ok",
     "timestamp": 1630334238055,
     "user": {
      "displayName": "Mahesh Anand",
      "photoUrl": "https://lh3.googleusercontent.com/a-/AOh14Ghy47CXBCGfpGm71ElmYPDEY5c3AQB5tdq4ROpemw=s64",
      "userId": "06788086636039591358"
     },
     "user_tz": -330
    },
    "id": "4hIVMIcV3EnV",
    "outputId": "fddae619-de5a-4e41-bcce-77f152020d22"
   },
   "outputs": [
    {
     "data": {
      "text/html": [
       "<div>\n",
       "<style scoped>\n",
       "    .dataframe tbody tr th:only-of-type {\n",
       "        vertical-align: middle;\n",
       "    }\n",
       "\n",
       "    .dataframe tbody tr th {\n",
       "        vertical-align: top;\n",
       "    }\n",
       "\n",
       "    .dataframe thead th {\n",
       "        text-align: right;\n",
       "    }\n",
       "</style>\n",
       "<table border=\"1\" class=\"dataframe\">\n",
       "  <thead>\n",
       "    <tr style=\"text-align: right;\">\n",
       "      <th></th>\n",
       "      <th>Cultivator</th>\n",
       "      <th>Alchol</th>\n",
       "      <th>Malic_Acid</th>\n",
       "      <th>Ash</th>\n",
       "      <th>Alcalinity_of_Ash</th>\n",
       "      <th>Magnesium</th>\n",
       "      <th>Total_phenols</th>\n",
       "      <th>Flavanoids</th>\n",
       "      <th>Nonflavanoid_phenols</th>\n",
       "      <th>Proanthocyanins</th>\n",
       "      <th>Color_intensity</th>\n",
       "      <th>Hue</th>\n",
       "      <th>OD280</th>\n",
       "      <th>Proline</th>\n",
       "    </tr>\n",
       "  </thead>\n",
       "  <tbody>\n",
       "    <tr>\n",
       "      <th>Cultivator</th>\n",
       "      <td>1.000000</td>\n",
       "      <td>-0.328222</td>\n",
       "      <td>0.437776</td>\n",
       "      <td>-0.049643</td>\n",
       "      <td>0.517859</td>\n",
       "      <td>-0.209179</td>\n",
       "      <td>-0.719163</td>\n",
       "      <td>-0.847498</td>\n",
       "      <td>0.489109</td>\n",
       "      <td>-0.499130</td>\n",
       "      <td>0.265668</td>\n",
       "      <td>-0.617369</td>\n",
       "      <td>-0.788230</td>\n",
       "      <td>-0.633717</td>\n",
       "    </tr>\n",
       "    <tr>\n",
       "      <th>Alchol</th>\n",
       "      <td>-0.328222</td>\n",
       "      <td>1.000000</td>\n",
       "      <td>0.094397</td>\n",
       "      <td>0.211545</td>\n",
       "      <td>-0.310235</td>\n",
       "      <td>0.270798</td>\n",
       "      <td>0.289101</td>\n",
       "      <td>0.236815</td>\n",
       "      <td>-0.155929</td>\n",
       "      <td>0.136698</td>\n",
       "      <td>0.546364</td>\n",
       "      <td>-0.071747</td>\n",
       "      <td>0.072343</td>\n",
       "      <td>0.643720</td>\n",
       "    </tr>\n",
       "    <tr>\n",
       "      <th>Malic_Acid</th>\n",
       "      <td>0.437776</td>\n",
       "      <td>0.094397</td>\n",
       "      <td>1.000000</td>\n",
       "      <td>0.164045</td>\n",
       "      <td>0.288500</td>\n",
       "      <td>-0.054575</td>\n",
       "      <td>-0.335167</td>\n",
       "      <td>-0.411007</td>\n",
       "      <td>0.292977</td>\n",
       "      <td>-0.220746</td>\n",
       "      <td>0.248985</td>\n",
       "      <td>-0.561296</td>\n",
       "      <td>-0.368710</td>\n",
       "      <td>-0.192011</td>\n",
       "    </tr>\n",
       "    <tr>\n",
       "      <th>Ash</th>\n",
       "      <td>-0.049643</td>\n",
       "      <td>0.211545</td>\n",
       "      <td>0.164045</td>\n",
       "      <td>1.000000</td>\n",
       "      <td>0.443367</td>\n",
       "      <td>0.286587</td>\n",
       "      <td>0.128980</td>\n",
       "      <td>0.115077</td>\n",
       "      <td>0.186230</td>\n",
       "      <td>0.009652</td>\n",
       "      <td>0.258887</td>\n",
       "      <td>-0.074667</td>\n",
       "      <td>0.003911</td>\n",
       "      <td>0.223626</td>\n",
       "    </tr>\n",
       "    <tr>\n",
       "      <th>Alcalinity_of_Ash</th>\n",
       "      <td>0.517859</td>\n",
       "      <td>-0.310235</td>\n",
       "      <td>0.288500</td>\n",
       "      <td>0.443367</td>\n",
       "      <td>1.000000</td>\n",
       "      <td>-0.083333</td>\n",
       "      <td>-0.321113</td>\n",
       "      <td>-0.351370</td>\n",
       "      <td>0.361922</td>\n",
       "      <td>-0.197327</td>\n",
       "      <td>0.018732</td>\n",
       "      <td>-0.273955</td>\n",
       "      <td>-0.276769</td>\n",
       "      <td>-0.440597</td>\n",
       "    </tr>\n",
       "    <tr>\n",
       "      <th>Magnesium</th>\n",
       "      <td>-0.209179</td>\n",
       "      <td>0.270798</td>\n",
       "      <td>-0.054575</td>\n",
       "      <td>0.286587</td>\n",
       "      <td>-0.083333</td>\n",
       "      <td>1.000000</td>\n",
       "      <td>0.214401</td>\n",
       "      <td>0.195784</td>\n",
       "      <td>-0.256294</td>\n",
       "      <td>0.236441</td>\n",
       "      <td>0.199950</td>\n",
       "      <td>0.055398</td>\n",
       "      <td>0.066004</td>\n",
       "      <td>0.393351</td>\n",
       "    </tr>\n",
       "    <tr>\n",
       "      <th>Total_phenols</th>\n",
       "      <td>-0.719163</td>\n",
       "      <td>0.289101</td>\n",
       "      <td>-0.335167</td>\n",
       "      <td>0.128980</td>\n",
       "      <td>-0.321113</td>\n",
       "      <td>0.214401</td>\n",
       "      <td>1.000000</td>\n",
       "      <td>0.864564</td>\n",
       "      <td>-0.449935</td>\n",
       "      <td>0.612413</td>\n",
       "      <td>-0.055136</td>\n",
       "      <td>0.433681</td>\n",
       "      <td>0.699949</td>\n",
       "      <td>0.498115</td>\n",
       "    </tr>\n",
       "    <tr>\n",
       "      <th>Flavanoids</th>\n",
       "      <td>-0.847498</td>\n",
       "      <td>0.236815</td>\n",
       "      <td>-0.411007</td>\n",
       "      <td>0.115077</td>\n",
       "      <td>-0.351370</td>\n",
       "      <td>0.195784</td>\n",
       "      <td>0.864564</td>\n",
       "      <td>1.000000</td>\n",
       "      <td>-0.537900</td>\n",
       "      <td>0.652692</td>\n",
       "      <td>-0.172379</td>\n",
       "      <td>0.543479</td>\n",
       "      <td>0.787194</td>\n",
       "      <td>0.494193</td>\n",
       "    </tr>\n",
       "    <tr>\n",
       "      <th>Nonflavanoid_phenols</th>\n",
       "      <td>0.489109</td>\n",
       "      <td>-0.155929</td>\n",
       "      <td>0.292977</td>\n",
       "      <td>0.186230</td>\n",
       "      <td>0.361922</td>\n",
       "      <td>-0.256294</td>\n",
       "      <td>-0.449935</td>\n",
       "      <td>-0.537900</td>\n",
       "      <td>1.000000</td>\n",
       "      <td>-0.365845</td>\n",
       "      <td>0.139057</td>\n",
       "      <td>-0.262640</td>\n",
       "      <td>-0.503270</td>\n",
       "      <td>-0.311385</td>\n",
       "    </tr>\n",
       "    <tr>\n",
       "      <th>Proanthocyanins</th>\n",
       "      <td>-0.499130</td>\n",
       "      <td>0.136698</td>\n",
       "      <td>-0.220746</td>\n",
       "      <td>0.009652</td>\n",
       "      <td>-0.197327</td>\n",
       "      <td>0.236441</td>\n",
       "      <td>0.612413</td>\n",
       "      <td>0.652692</td>\n",
       "      <td>-0.365845</td>\n",
       "      <td>1.000000</td>\n",
       "      <td>-0.025250</td>\n",
       "      <td>0.295544</td>\n",
       "      <td>0.519067</td>\n",
       "      <td>0.330417</td>\n",
       "    </tr>\n",
       "    <tr>\n",
       "      <th>Color_intensity</th>\n",
       "      <td>0.265668</td>\n",
       "      <td>0.546364</td>\n",
       "      <td>0.248985</td>\n",
       "      <td>0.258887</td>\n",
       "      <td>0.018732</td>\n",
       "      <td>0.199950</td>\n",
       "      <td>-0.055136</td>\n",
       "      <td>-0.172379</td>\n",
       "      <td>0.139057</td>\n",
       "      <td>-0.025250</td>\n",
       "      <td>1.000000</td>\n",
       "      <td>-0.521813</td>\n",
       "      <td>-0.428815</td>\n",
       "      <td>0.316100</td>\n",
       "    </tr>\n",
       "    <tr>\n",
       "      <th>Hue</th>\n",
       "      <td>-0.617369</td>\n",
       "      <td>-0.071747</td>\n",
       "      <td>-0.561296</td>\n",
       "      <td>-0.074667</td>\n",
       "      <td>-0.273955</td>\n",
       "      <td>0.055398</td>\n",
       "      <td>0.433681</td>\n",
       "      <td>0.543479</td>\n",
       "      <td>-0.262640</td>\n",
       "      <td>0.295544</td>\n",
       "      <td>-0.521813</td>\n",
       "      <td>1.000000</td>\n",
       "      <td>0.565468</td>\n",
       "      <td>0.236183</td>\n",
       "    </tr>\n",
       "    <tr>\n",
       "      <th>OD280</th>\n",
       "      <td>-0.788230</td>\n",
       "      <td>0.072343</td>\n",
       "      <td>-0.368710</td>\n",
       "      <td>0.003911</td>\n",
       "      <td>-0.276769</td>\n",
       "      <td>0.066004</td>\n",
       "      <td>0.699949</td>\n",
       "      <td>0.787194</td>\n",
       "      <td>-0.503270</td>\n",
       "      <td>0.519067</td>\n",
       "      <td>-0.428815</td>\n",
       "      <td>0.565468</td>\n",
       "      <td>1.000000</td>\n",
       "      <td>0.312761</td>\n",
       "    </tr>\n",
       "    <tr>\n",
       "      <th>Proline</th>\n",
       "      <td>-0.633717</td>\n",
       "      <td>0.643720</td>\n",
       "      <td>-0.192011</td>\n",
       "      <td>0.223626</td>\n",
       "      <td>-0.440597</td>\n",
       "      <td>0.393351</td>\n",
       "      <td>0.498115</td>\n",
       "      <td>0.494193</td>\n",
       "      <td>-0.311385</td>\n",
       "      <td>0.330417</td>\n",
       "      <td>0.316100</td>\n",
       "      <td>0.236183</td>\n",
       "      <td>0.312761</td>\n",
       "      <td>1.000000</td>\n",
       "    </tr>\n",
       "  </tbody>\n",
       "</table>\n",
       "</div>"
      ],
      "text/plain": [
       "                      Cultivator    Alchol  Malic_Acid       Ash  \\\n",
       "Cultivator              1.000000 -0.328222    0.437776 -0.049643   \n",
       "Alchol                 -0.328222  1.000000    0.094397  0.211545   \n",
       "Malic_Acid              0.437776  0.094397    1.000000  0.164045   \n",
       "Ash                    -0.049643  0.211545    0.164045  1.000000   \n",
       "Alcalinity_of_Ash       0.517859 -0.310235    0.288500  0.443367   \n",
       "Magnesium              -0.209179  0.270798   -0.054575  0.286587   \n",
       "Total_phenols          -0.719163  0.289101   -0.335167  0.128980   \n",
       "Flavanoids             -0.847498  0.236815   -0.411007  0.115077   \n",
       "Nonflavanoid_phenols    0.489109 -0.155929    0.292977  0.186230   \n",
       "Proanthocyanins        -0.499130  0.136698   -0.220746  0.009652   \n",
       "Color_intensity         0.265668  0.546364    0.248985  0.258887   \n",
       "Hue                    -0.617369 -0.071747   -0.561296 -0.074667   \n",
       "OD280                  -0.788230  0.072343   -0.368710  0.003911   \n",
       "Proline                -0.633717  0.643720   -0.192011  0.223626   \n",
       "\n",
       "                      Alcalinity_of_Ash  Magnesium  Total_phenols  Flavanoids  \\\n",
       "Cultivator                     0.517859  -0.209179      -0.719163   -0.847498   \n",
       "Alchol                        -0.310235   0.270798       0.289101    0.236815   \n",
       "Malic_Acid                     0.288500  -0.054575      -0.335167   -0.411007   \n",
       "Ash                            0.443367   0.286587       0.128980    0.115077   \n",
       "Alcalinity_of_Ash              1.000000  -0.083333      -0.321113   -0.351370   \n",
       "Magnesium                     -0.083333   1.000000       0.214401    0.195784   \n",
       "Total_phenols                 -0.321113   0.214401       1.000000    0.864564   \n",
       "Flavanoids                    -0.351370   0.195784       0.864564    1.000000   \n",
       "Nonflavanoid_phenols           0.361922  -0.256294      -0.449935   -0.537900   \n",
       "Proanthocyanins               -0.197327   0.236441       0.612413    0.652692   \n",
       "Color_intensity                0.018732   0.199950      -0.055136   -0.172379   \n",
       "Hue                           -0.273955   0.055398       0.433681    0.543479   \n",
       "OD280                         -0.276769   0.066004       0.699949    0.787194   \n",
       "Proline                       -0.440597   0.393351       0.498115    0.494193   \n",
       "\n",
       "                      Nonflavanoid_phenols  Proanthocyanins  Color_intensity  \\\n",
       "Cultivator                        0.489109        -0.499130         0.265668   \n",
       "Alchol                           -0.155929         0.136698         0.546364   \n",
       "Malic_Acid                        0.292977        -0.220746         0.248985   \n",
       "Ash                               0.186230         0.009652         0.258887   \n",
       "Alcalinity_of_Ash                 0.361922        -0.197327         0.018732   \n",
       "Magnesium                        -0.256294         0.236441         0.199950   \n",
       "Total_phenols                    -0.449935         0.612413        -0.055136   \n",
       "Flavanoids                       -0.537900         0.652692        -0.172379   \n",
       "Nonflavanoid_phenols              1.000000        -0.365845         0.139057   \n",
       "Proanthocyanins                  -0.365845         1.000000        -0.025250   \n",
       "Color_intensity                   0.139057        -0.025250         1.000000   \n",
       "Hue                              -0.262640         0.295544        -0.521813   \n",
       "OD280                            -0.503270         0.519067        -0.428815   \n",
       "Proline                          -0.311385         0.330417         0.316100   \n",
       "\n",
       "                           Hue     OD280   Proline  \n",
       "Cultivator           -0.617369 -0.788230 -0.633717  \n",
       "Alchol               -0.071747  0.072343  0.643720  \n",
       "Malic_Acid           -0.561296 -0.368710 -0.192011  \n",
       "Ash                  -0.074667  0.003911  0.223626  \n",
       "Alcalinity_of_Ash    -0.273955 -0.276769 -0.440597  \n",
       "Magnesium             0.055398  0.066004  0.393351  \n",
       "Total_phenols         0.433681  0.699949  0.498115  \n",
       "Flavanoids            0.543479  0.787194  0.494193  \n",
       "Nonflavanoid_phenols -0.262640 -0.503270 -0.311385  \n",
       "Proanthocyanins       0.295544  0.519067  0.330417  \n",
       "Color_intensity      -0.521813 -0.428815  0.316100  \n",
       "Hue                   1.000000  0.565468  0.236183  \n",
       "OD280                 0.565468  1.000000  0.312761  \n",
       "Proline               0.236183  0.312761  1.000000  "
      ]
     },
     "execution_count": 5,
     "metadata": {},
     "output_type": "execute_result"
    }
   ],
   "source": [
    "A.corr()"
   ]
  },
  {
   "cell_type": "code",
   "execution_count": 6,
   "metadata": {
    "colab": {
     "base_uri": "https://localhost:8080/",
     "height": 488
    },
    "executionInfo": {
     "elapsed": 792,
     "status": "ok",
     "timestamp": 1630989595398,
     "user": {
      "displayName": "Mahesh Anand",
      "photoUrl": "https://lh3.googleusercontent.com/a-/AOh14Ghy47CXBCGfpGm71ElmYPDEY5c3AQB5tdq4ROpemw=s64",
      "userId": "06788086636039591358"
     },
     "user_tz": -330
    },
    "id": "IGG7NQv13B5R",
    "outputId": "25173003-69d8-4189-d61f-54dc80af7f41"
   },
   "outputs": [
    {
     "data": {
      "image/png": "[encoded data removed]",
      "text/plain": [
       "<Figure size 1080x576 with 1 Axes>"
      ]
     },
     "metadata": {
      "needs_background": "light"
     },
     "output_type": "display_data"
    }
   ],
   "source": [
    "# plot the scatterplot to visualize the clusters\n",
    "plt.rcParams['figure.figsize'] = [15,8]\n",
    "sns.scatterplot(x = 'Flavanoids', y = 'Total_phenols', data = A, hue = 'Cultivator')\n",
    "\n",
    "# set the axes and plot labels\n",
    "# set the font size using 'fontsize'\n",
    "plt.title('scatter plot', fontsize = 15)\n",
    "plt.xlabel('Flavanoids', fontsize = 15)\n",
    "plt.ylabel('Total_phenols', fontsize = 15)\n",
    "\n",
    "# display the plot\n",
    "plt.show()"
   ]
  },
  {
   "cell_type": "code",
   "execution_count": 7,
   "metadata": {
    "colab": {
     "base_uri": "https://localhost:8080/"
    },
    "executionInfo": {
     "elapsed": 1176,
     "status": "ok",
     "timestamp": 1610348370984,
     "user": {
      "displayName": "Mahesh Anand",
      "photoUrl": "https://lh3.googleusercontent.com/a-/AOh14GiAxRvO4nLPhI4SJLaIoUVmhr8lm1tddyCLyKOj=s64",
      "userId": "06788086636039591358"
     },
     "user_tz": -330
    },
    "id": "j3YfHaTEY6N7",
    "outputId": "2be9cbb7-eca6-43f3-a809-0d495683ff63"
   },
   "outputs": [
    {
     "data": {
      "text/plain": [
       "(178, 14)"
      ]
     },
     "execution_count": 7,
     "metadata": {},
     "output_type": "execute_result"
    }
   ],
   "source": [
    "A.shape"
   ]
  },
  {
   "cell_type": "code",
   "execution_count": 8,
   "metadata": {
    "colab": {
     "base_uri": "https://localhost:8080/"
    },
    "executionInfo": {
     "elapsed": 387,
     "status": "ok",
     "timestamp": 1624426442610,
     "user": {
      "displayName": "Mahesh Anand",
      "photoUrl": "https://lh3.googleusercontent.com/a-/AOh14GgKd7FxLgzXO0MxUwypCgML3QfaeTdE0nT8cpHwLQ=s64",
      "userId": "06788086636039591358"
     },
     "user_tz": -330
    },
    "id": "wzu1yH49Puhy",
    "outputId": "a328c4d9-ef90-42f6-feea-fd673ef86952"
   },
   "outputs": [
    {
     "data": {
      "text/plain": [
       "2    71\n",
       "1    59\n",
       "3    48\n",
       "Name: Cultivator, dtype: int64"
      ]
     },
     "execution_count": 8,
     "metadata": {},
     "output_type": "execute_result"
    }
   ],
   "source": [
    "A['Cultivator'].value_counts()"
   ]
  },
  {
   "cell_type": "code",
   "execution_count": 9,
   "metadata": {
    "colab": {
     "base_uri": "https://localhost:8080/",
     "height": 503
    },
    "executionInfo": {
     "elapsed": 382,
     "status": "ok",
     "timestamp": 1629217609520,
     "user": {
      "displayName": "Mahesh Anand",
      "photoUrl": "https://lh3.googleusercontent.com/a-/AOh14Ghy47CXBCGfpGm71ElmYPDEY5c3AQB5tdq4ROpemw=s64",
      "userId": "06788086636039591358"
     },
     "user_tz": -330
    },
    "id": "Cdftdj50TeqK",
    "outputId": "6b77bb38-e57b-484b-9035-d82eeaf7f3e0"
   },
   "outputs": [
    {
     "data": {
      "text/html": [
       "<div>\n",
       "<style scoped>\n",
       "    .dataframe tbody tr th:only-of-type {\n",
       "        vertical-align: middle;\n",
       "    }\n",
       "\n",
       "    .dataframe tbody tr th {\n",
       "        vertical-align: top;\n",
       "    }\n",
       "\n",
       "    .dataframe thead th {\n",
       "        text-align: right;\n",
       "    }\n",
       "</style>\n",
       "<table border=\"1\" class=\"dataframe\">\n",
       "  <thead>\n",
       "    <tr style=\"text-align: right;\">\n",
       "      <th></th>\n",
       "      <th>Cultivator</th>\n",
       "      <th>Alchol</th>\n",
       "      <th>Malic_Acid</th>\n",
       "      <th>Ash</th>\n",
       "      <th>Alcalinity_of_Ash</th>\n",
       "      <th>Magnesium</th>\n",
       "      <th>Total_phenols</th>\n",
       "      <th>Flavanoids</th>\n",
       "      <th>Nonflavanoid_phenols</th>\n",
       "      <th>Proanthocyanins</th>\n",
       "      <th>Color_intensity</th>\n",
       "      <th>Hue</th>\n",
       "      <th>OD280</th>\n",
       "      <th>Proline</th>\n",
       "    </tr>\n",
       "  </thead>\n",
       "  <tbody>\n",
       "    <tr>\n",
       "      <th>Cultivator</th>\n",
       "      <td>1.000000</td>\n",
       "      <td>-0.328222</td>\n",
       "      <td>0.437776</td>\n",
       "      <td>-0.049643</td>\n",
       "      <td>0.517859</td>\n",
       "      <td>-0.209179</td>\n",
       "      <td>-0.719163</td>\n",
       "      <td>-0.847498</td>\n",
       "      <td>0.489109</td>\n",
       "      <td>-0.499130</td>\n",
       "      <td>0.265668</td>\n",
       "      <td>-0.617369</td>\n",
       "      <td>-0.788230</td>\n",
       "      <td>-0.633717</td>\n",
       "    </tr>\n",
       "    <tr>\n",
       "      <th>Alchol</th>\n",
       "      <td>-0.328222</td>\n",
       "      <td>1.000000</td>\n",
       "      <td>0.094397</td>\n",
       "      <td>0.211545</td>\n",
       "      <td>-0.310235</td>\n",
       "      <td>0.270798</td>\n",
       "      <td>0.289101</td>\n",
       "      <td>0.236815</td>\n",
       "      <td>-0.155929</td>\n",
       "      <td>0.136698</td>\n",
       "      <td>0.546364</td>\n",
       "      <td>-0.071747</td>\n",
       "      <td>0.072343</td>\n",
       "      <td>0.643720</td>\n",
       "    </tr>\n",
       "    <tr>\n",
       "      <th>Malic_Acid</th>\n",
       "      <td>0.437776</td>\n",
       "      <td>0.094397</td>\n",
       "      <td>1.000000</td>\n",
       "      <td>0.164045</td>\n",
       "      <td>0.288500</td>\n",
       "      <td>-0.054575</td>\n",
       "      <td>-0.335167</td>\n",
       "      <td>-0.411007</td>\n",
       "      <td>0.292977</td>\n",
       "      <td>-0.220746</td>\n",
       "      <td>0.248985</td>\n",
       "      <td>-0.561296</td>\n",
       "      <td>-0.368710</td>\n",
       "      <td>-0.192011</td>\n",
       "    </tr>\n",
       "    <tr>\n",
       "      <th>Ash</th>\n",
       "      <td>-0.049643</td>\n",
       "      <td>0.211545</td>\n",
       "      <td>0.164045</td>\n",
       "      <td>1.000000</td>\n",
       "      <td>0.443367</td>\n",
       "      <td>0.286587</td>\n",
       "      <td>0.128980</td>\n",
       "      <td>0.115077</td>\n",
       "      <td>0.186230</td>\n",
       "      <td>0.009652</td>\n",
       "      <td>0.258887</td>\n",
       "      <td>-0.074667</td>\n",
       "      <td>0.003911</td>\n",
       "      <td>0.223626</td>\n",
       "    </tr>\n",
       "    <tr>\n",
       "      <th>Alcalinity_of_Ash</th>\n",
       "      <td>0.517859</td>\n",
       "      <td>-0.310235</td>\n",
       "      <td>0.288500</td>\n",
       "      <td>0.443367</td>\n",
       "      <td>1.000000</td>\n",
       "      <td>-0.083333</td>\n",
       "      <td>-0.321113</td>\n",
       "      <td>-0.351370</td>\n",
       "      <td>0.361922</td>\n",
       "      <td>-0.197327</td>\n",
       "      <td>0.018732</td>\n",
       "      <td>-0.273955</td>\n",
       "      <td>-0.276769</td>\n",
       "      <td>-0.440597</td>\n",
       "    </tr>\n",
       "    <tr>\n",
       "      <th>Magnesium</th>\n",
       "      <td>-0.209179</td>\n",
       "      <td>0.270798</td>\n",
       "      <td>-0.054575</td>\n",
       "      <td>0.286587</td>\n",
       "      <td>-0.083333</td>\n",
       "      <td>1.000000</td>\n",
       "      <td>0.214401</td>\n",
       "      <td>0.195784</td>\n",
       "      <td>-0.256294</td>\n",
       "      <td>0.236441</td>\n",
       "      <td>0.199950</td>\n",
       "      <td>0.055398</td>\n",
       "      <td>0.066004</td>\n",
       "      <td>0.393351</td>\n",
       "    </tr>\n",
       "    <tr>\n",
       "      <th>Total_phenols</th>\n",
       "      <td>-0.719163</td>\n",
       "      <td>0.289101</td>\n",
       "      <td>-0.335167</td>\n",
       "      <td>0.128980</td>\n",
       "      <td>-0.321113</td>\n",
       "      <td>0.214401</td>\n",
       "      <td>1.000000</td>\n",
       "      <td>0.864564</td>\n",
       "      <td>-0.449935</td>\n",
       "      <td>0.612413</td>\n",
       "      <td>-0.055136</td>\n",
       "      <td>0.433681</td>\n",
       "      <td>0.699949</td>\n",
       "      <td>0.498115</td>\n",
       "    </tr>\n",
       "    <tr>\n",
       "      <th>Flavanoids</th>\n",
       "      <td>-0.847498</td>\n",
       "      <td>0.236815</td>\n",
       "      <td>-0.411007</td>\n",
       "      <td>0.115077</td>\n",
       "      <td>-0.351370</td>\n",
       "      <td>0.195784</td>\n",
       "      <td>0.864564</td>\n",
       "      <td>1.000000</td>\n",
       "      <td>-0.537900</td>\n",
       "      <td>0.652692</td>\n",
       "      <td>-0.172379</td>\n",
       "      <td>0.543479</td>\n",
       "      <td>0.787194</td>\n",
       "      <td>0.494193</td>\n",
       "    </tr>\n",
       "    <tr>\n",
       "      <th>Nonflavanoid_phenols</th>\n",
       "      <td>0.489109</td>\n",
       "      <td>-0.155929</td>\n",
       "      <td>0.292977</td>\n",
       "      <td>0.186230</td>\n",
       "      <td>0.361922</td>\n",
       "      <td>-0.256294</td>\n",
       "      <td>-0.449935</td>\n",
       "      <td>-0.537900</td>\n",
       "      <td>1.000000</td>\n",
       "      <td>-0.365845</td>\n",
       "      <td>0.139057</td>\n",
       "      <td>-0.262640</td>\n",
       "      <td>-0.503270</td>\n",
       "      <td>-0.311385</td>\n",
       "    </tr>\n",
       "    <tr>\n",
       "      <th>Proanthocyanins</th>\n",
       "      <td>-0.499130</td>\n",
       "      <td>0.136698</td>\n",
       "      <td>-0.220746</td>\n",
       "      <td>0.009652</td>\n",
       "      <td>-0.197327</td>\n",
       "      <td>0.236441</td>\n",
       "      <td>0.612413</td>\n",
       "      <td>0.652692</td>\n",
       "      <td>-0.365845</td>\n",
       "      <td>1.000000</td>\n",
       "      <td>-0.025250</td>\n",
       "      <td>0.295544</td>\n",
       "      <td>0.519067</td>\n",
       "      <td>0.330417</td>\n",
       "    </tr>\n",
       "    <tr>\n",
       "      <th>Color_intensity</th>\n",
       "      <td>0.265668</td>\n",
       "      <td>0.546364</td>\n",
       "      <td>0.248985</td>\n",
       "      <td>0.258887</td>\n",
       "      <td>0.018732</td>\n",
       "      <td>0.199950</td>\n",
       "      <td>-0.055136</td>\n",
       "      <td>-0.172379</td>\n",
       "      <td>0.139057</td>\n",
       "      <td>-0.025250</td>\n",
       "      <td>1.000000</td>\n",
       "      <td>-0.521813</td>\n",
       "      <td>-0.428815</td>\n",
       "      <td>0.316100</td>\n",
       "    </tr>\n",
       "    <tr>\n",
       "      <th>Hue</th>\n",
       "      <td>-0.617369</td>\n",
       "      <td>-0.071747</td>\n",
       "      <td>-0.561296</td>\n",
       "      <td>-0.074667</td>\n",
       "      <td>-0.273955</td>\n",
       "      <td>0.055398</td>\n",
       "      <td>0.433681</td>\n",
       "      <td>0.543479</td>\n",
       "      <td>-0.262640</td>\n",
       "      <td>0.295544</td>\n",
       "      <td>-0.521813</td>\n",
       "      <td>1.000000</td>\n",
       "      <td>0.565468</td>\n",
       "      <td>0.236183</td>\n",
       "    </tr>\n",
       "    <tr>\n",
       "      <th>OD280</th>\n",
       "      <td>-0.788230</td>\n",
       "      <td>0.072343</td>\n",
       "      <td>-0.368710</td>\n",
       "      <td>0.003911</td>\n",
       "      <td>-0.276769</td>\n",
       "      <td>0.066004</td>\n",
       "      <td>0.699949</td>\n",
       "      <td>0.787194</td>\n",
       "      <td>-0.503270</td>\n",
       "      <td>0.519067</td>\n",
       "      <td>-0.428815</td>\n",
       "      <td>0.565468</td>\n",
       "      <td>1.000000</td>\n",
       "      <td>0.312761</td>\n",
       "    </tr>\n",
       "    <tr>\n",
       "      <th>Proline</th>\n",
       "      <td>-0.633717</td>\n",
       "      <td>0.643720</td>\n",
       "      <td>-0.192011</td>\n",
       "      <td>0.223626</td>\n",
       "      <td>-0.440597</td>\n",
       "      <td>0.393351</td>\n",
       "      <td>0.498115</td>\n",
       "      <td>0.494193</td>\n",
       "      <td>-0.311385</td>\n",
       "      <td>0.330417</td>\n",
       "      <td>0.316100</td>\n",
       "      <td>0.236183</td>\n",
       "      <td>0.312761</td>\n",
       "      <td>1.000000</td>\n",
       "    </tr>\n",
       "  </tbody>\n",
       "</table>\n",
       "</div>"
      ],
      "text/plain": [
       "                      Cultivator    Alchol  Malic_Acid       Ash  \\\n",
       "Cultivator              1.000000 -0.328222    0.437776 -0.049643   \n",
       "Alchol                 -0.328222  1.000000    0.094397  0.211545   \n",
       "Malic_Acid              0.437776  0.094397    1.000000  0.164045   \n",
       "Ash                    -0.049643  0.211545    0.164045  1.000000   \n",
       "Alcalinity_of_Ash       0.517859 -0.310235    0.288500  0.443367   \n",
       "Magnesium              -0.209179  0.270798   -0.054575  0.286587   \n",
       "Total_phenols          -0.719163  0.289101   -0.335167  0.128980   \n",
       "Flavanoids             -0.847498  0.236815   -0.411007  0.115077   \n",
       "Nonflavanoid_phenols    0.489109 -0.155929    0.292977  0.186230   \n",
       "Proanthocyanins        -0.499130  0.136698   -0.220746  0.009652   \n",
       "Color_intensity         0.265668  0.546364    0.248985  0.258887   \n",
       "Hue                    -0.617369 -0.071747   -0.561296 -0.074667   \n",
       "OD280                  -0.788230  0.072343   -0.368710  0.003911   \n",
       "Proline                -0.633717  0.643720   -0.192011  0.223626   \n",
       "\n",
       "                      Alcalinity_of_Ash  Magnesium  Total_phenols  Flavanoids  \\\n",
       "Cultivator                     0.517859  -0.209179      -0.719163   -0.847498   \n",
       "Alchol                        -0.310235   0.270798       0.289101    0.236815   \n",
       "Malic_Acid                     0.288500  -0.054575      -0.335167   -0.411007   \n",
       "Ash                            0.443367   0.286587       0.128980    0.115077   \n",
       "Alcalinity_of_Ash              1.000000  -0.083333      -0.321113   -0.351370   \n",
       "Magnesium                     -0.083333   1.000000       0.214401    0.195784   \n",
       "Total_phenols                 -0.321113   0.214401       1.000000    0.864564   \n",
       "Flavanoids                    -0.351370   0.195784       0.864564    1.000000   \n",
       "Nonflavanoid_phenols           0.361922  -0.256294      -0.449935   -0.537900   \n",
       "Proanthocyanins               -0.197327   0.236441       0.612413    0.652692   \n",
       "Color_intensity                0.018732   0.199950      -0.055136   -0.172379   \n",
       "Hue                           -0.273955   0.055398       0.433681    0.543479   \n",
       "OD280                         -0.276769   0.066004       0.699949    0.787194   \n",
       "Proline                       -0.440597   0.393351       0.498115    0.494193   \n",
       "\n",
       "                      Nonflavanoid_phenols  Proanthocyanins  Color_intensity  \\\n",
       "Cultivator                        0.489109        -0.499130         0.265668   \n",
       "Alchol                           -0.155929         0.136698         0.546364   \n",
       "Malic_Acid                        0.292977        -0.220746         0.248985   \n",
       "Ash                               0.186230         0.009652         0.258887   \n",
       "Alcalinity_of_Ash                 0.361922        -0.197327         0.018732   \n",
       "Magnesium                        -0.256294         0.236441         0.199950   \n",
       "Total_phenols                    -0.449935         0.612413        -0.055136   \n",
       "Flavanoids                       -0.537900         0.652692        -0.172379   \n",
       "Nonflavanoid_phenols              1.000000        -0.365845         0.139057   \n",
       "Proanthocyanins                  -0.365845         1.000000        -0.025250   \n",
       "Color_intensity                   0.139057        -0.025250         1.000000   \n",
       "Hue                              -0.262640         0.295544        -0.521813   \n",
       "OD280                            -0.503270         0.519067        -0.428815   \n",
       "Proline                          -0.311385         0.330417         0.316100   \n",
       "\n",
       "                           Hue     OD280   Proline  \n",
       "Cultivator           -0.617369 -0.788230 -0.633717  \n",
       "Alchol               -0.071747  0.072343  0.643720  \n",
       "Malic_Acid           -0.561296 -0.368710 -0.192011  \n",
       "Ash                  -0.074667  0.003911  0.223626  \n",
       "Alcalinity_of_Ash    -0.273955 -0.276769 -0.440597  \n",
       "Magnesium             0.055398  0.066004  0.393351  \n",
       "Total_phenols         0.433681  0.699949  0.498115  \n",
       "Flavanoids            0.543479  0.787194  0.494193  \n",
       "Nonflavanoid_phenols -0.262640 -0.503270 -0.311385  \n",
       "Proanthocyanins       0.295544  0.519067  0.330417  \n",
       "Color_intensity      -0.521813 -0.428815  0.316100  \n",
       "Hue                   1.000000  0.565468  0.236183  \n",
       "OD280                 0.565468  1.000000  0.312761  \n",
       "Proline               0.236183  0.312761  1.000000  "
      ]
     },
     "execution_count": 9,
     "metadata": {},
     "output_type": "execute_result"
    }
   ],
   "source": [
    "A.corr()"
   ]
  },
  {
   "cell_type": "code",
   "execution_count": 10,
   "metadata": {
    "id": "L5wPNltSUmX4"
   },
   "outputs": [],
   "source": [
    "from scipy.stats import f_oneway"
   ]
  },
  {
   "cell_type": "code",
   "execution_count": 11,
   "metadata": {
    "id": "orNg4-K8UqKd"
   },
   "outputs": [],
   "source": [
    "g1=A[A['Cultivator']==1]\n",
    "g2=A[A['Cultivator']==2]\n",
    "g3=A[A['Cultivator']==3]"
   ]
  },
  {
   "cell_type": "code",
   "execution_count": 12,
   "metadata": {
    "colab": {
     "base_uri": "https://localhost:8080/"
    },
    "executionInfo": {
     "elapsed": 6,
     "status": "ok",
     "timestamp": 1630990775284,
     "user": {
      "displayName": "Mahesh Anand",
      "photoUrl": "https://lh3.googleusercontent.com/a-/AOh14Ghy47CXBCGfpGm71ElmYPDEY5c3AQB5tdq4ROpemw=s64",
      "userId": "06788086636039591358"
     },
     "user_tz": -330
    },
    "id": "n03xrNxbU-HF",
    "outputId": "7ce63319-2299-44fd-cf01-8d719716f0e6"
   },
   "outputs": [
    {
     "data": {
      "text/plain": [
       "((59, 14), (71, 14), (48, 14))"
      ]
     },
     "execution_count": 12,
     "metadata": {},
     "output_type": "execute_result"
    }
   ],
   "source": [
    "g1.shape,g2.shape,g3.shape"
   ]
  },
  {
   "cell_type": "code",
   "execution_count": 13,
   "metadata": {
    "colab": {
     "base_uri": "https://localhost:8080/"
    },
    "executionInfo": {
     "elapsed": 1311,
     "status": "ok",
     "timestamp": 1609862783530,
     "user": {
      "displayName": "Mahesh Anand",
      "photoUrl": "https://lh3.googleusercontent.com/a-/AOh14GiAxRvO4nLPhI4SJLaIoUVmhr8lm1tddyCLyKOj=s64",
      "userId": "06788086636039591358"
     },
     "user_tz": -330
    },
    "id": "DnxJ3UYVHgFX",
    "outputId": "369ed83d-9bd7-48f8-8433-9e8044173fe2"
   },
   "outputs": [
    {
     "data": {
      "text/plain": [
       "2    71\n",
       "1    59\n",
       "3    48\n",
       "Name: Cultivator, dtype: int64"
      ]
     },
     "execution_count": 13,
     "metadata": {},
     "output_type": "execute_result"
    }
   ],
   "source": [
    "A['Cultivator'].value_counts()"
   ]
  },
  {
   "cell_type": "code",
   "execution_count": 14,
   "metadata": {
    "colab": {
     "base_uri": "https://localhost:8080/"
    },
    "executionInfo": {
     "elapsed": 338,
     "status": "ok",
     "timestamp": 1624423784165,
     "user": {
      "displayName": "Mahesh Anand",
      "photoUrl": "https://lh3.googleusercontent.com/a-/AOh14GgKd7FxLgzXO0MxUwypCgML3QfaeTdE0nT8cpHwLQ=s64",
      "userId": "06788086636039591358"
     },
     "user_tz": -330
    },
    "id": "62AC-srfVGVr",
    "outputId": "104c8736-2e02-4116-acc8-ae8b597a4131"
   },
   "outputs": [
    {
     "data": {
      "text/plain": [
       "F_onewayResult(statistic=13.312901199991039, pvalue=4.149967974793239e-06)"
      ]
     },
     "execution_count": 14,
     "metadata": {},
     "output_type": "execute_result"
    }
   ],
   "source": [
    "f_oneway(g1['Ash'],g2['Ash'],g3['Ash'])"
   ]
  },
  {
   "cell_type": "code",
   "execution_count": 15,
   "metadata": {
    "colab": {
     "base_uri": "https://localhost:8080/"
    },
    "executionInfo": {
     "elapsed": 355,
     "status": "ok",
     "timestamp": 1629217715759,
     "user": {
      "displayName": "Mahesh Anand",
      "photoUrl": "https://lh3.googleusercontent.com/a-/AOh14Ghy47CXBCGfpGm71ElmYPDEY5c3AQB5tdq4ROpemw=s64",
      "userId": "06788086636039591358"
     },
     "user_tz": -330
    },
    "id": "SWy3UiORVnmP",
    "outputId": "6097e151-1524-4898-a778-05212eba8fa4"
   },
   "outputs": [
    {
     "data": {
      "text/plain": [
       "F_onewayResult(statistic=12.4295843381499, pvalue=8.963395439251042e-06)"
      ]
     },
     "execution_count": 15,
     "metadata": {},
     "output_type": "execute_result"
    }
   ],
   "source": [
    "f_oneway(g1['Magnesium'],g2['Magnesium'],g3['Magnesium'])\n"
   ]
  },
  {
   "cell_type": "code",
   "execution_count": 16,
   "metadata": {
    "colab": {
     "base_uri": "https://localhost:8080/"
    },
    "executionInfo": {
     "elapsed": 14,
     "status": "ok",
     "timestamp": 1630990839251,
     "user": {
      "displayName": "Mahesh Anand",
      "photoUrl": "https://lh3.googleusercontent.com/a-/AOh14Ghy47CXBCGfpGm71ElmYPDEY5c3AQB5tdq4ROpemw=s64",
      "userId": "06788086636039591358"
     },
     "user_tz": -330
    },
    "id": "EpdHTlr-VxBP",
    "outputId": "1eb044ca-5a1d-4975-9747-bbc5949763bb"
   },
   "outputs": [
    {
     "name": "stdout",
     "output_type": "stream",
     "text": [
      "[0.0, 3.319503795619655e-36, 4.127228798041834e-14, 4.149967974793239e-06, 9.444472938826817e-14, 8.963395439251042e-06, 2.1376700154385954e-28, 3.5985858307136404e-50, 3.88804090047893e-11, 5.125358737546706e-12, 1.162008021927618e-33, 5.9176622163620664e-30, 1.393104956942896e-44, 5.783168356105498e-47]\n"
     ]
    }
   ],
   "source": [
    "p_val=[]\n",
    "for col in A.columns:\n",
    "    res=f_oneway(g1[col],g2[col],g3[col])\n",
    "    p_val.append(res[1])\n",
    "print(p_val)"
   ]
  },
  {
   "cell_type": "markdown",
   "metadata": {
    "id": "FgO6_lbAYIz9"
   },
   "source": []
  },
  {
   "cell_type": "code",
   "execution_count": 17,
   "metadata": {
    "id": "m0gOk00jOsGq"
   },
   "outputs": [],
   "source": [
    "X=A.drop('Cultivator',axis=1)\n",
    "Y=A['Cultivator']"
   ]
  },
  {
   "cell_type": "code",
   "execution_count": 18,
   "metadata": {
    "id": "wPMrhp3WWf-Y"
   },
   "outputs": [],
   "source": [
    "sc=StandardScaler()\n",
    "X_std=sc.fit_transform(X)"
   ]
  },
  {
   "cell_type": "code",
   "execution_count": 19,
   "metadata": {
    "id": "JZUcUne7Wm6h"
   },
   "outputs": [],
   "source": [
    "LR=LogisticRegression()\n",
    "NB=GaussianNB()"
   ]
  },
  {
   "cell_type": "code",
   "execution_count": 20,
   "metadata": {
    "id": "8jmv6t0dW-Ci"
   },
   "outputs": [],
   "source": [
    "from sklearn.model_selection import cross_val_score,KFold,train_test_split"
   ]
  },
  {
   "cell_type": "code",
   "execution_count": 21,
   "metadata": {
    "id": "ttzzlfA4uKdu"
   },
   "outputs": [],
   "source": [
    "xtrain,xtest,ytrain,ytest=train_test_split(X,Y,test_size=0.3,random_state=0)"
   ]
  },
  {
   "cell_type": "code",
   "execution_count": 22,
   "metadata": {
    "colab": {
     "base_uri": "https://localhost:8080/"
    },
    "executionInfo": {
     "elapsed": 642,
     "status": "ok",
     "timestamp": 1629218585107,
     "user": {
      "displayName": "Mahesh Anand",
      "photoUrl": "https://lh3.googleusercontent.com/a-/AOh14Ghy47CXBCGfpGm71ElmYPDEY5c3AQB5tdq4ROpemw=s64",
      "userId": "06788086636039591358"
     },
     "user_tz": -330
    },
    "id": "wzde2qQd_oCi",
    "outputId": "db627adb-a533-4e24-8ff0-4e13495bf635"
   },
   "outputs": [
    {
     "data": {
      "text/plain": [
       "2    22\n",
       "1    19\n",
       "3    13\n",
       "Name: Cultivator, dtype: int64"
      ]
     },
     "execution_count": 22,
     "metadata": {},
     "output_type": "execute_result"
    }
   ],
   "source": [
    "ytest.value_counts()"
   ]
  },
  {
   "cell_type": "code",
   "execution_count": 23,
   "metadata": {
    "colab": {
     "base_uri": "https://localhost:8080/"
    },
    "executionInfo": {
     "elapsed": 13,
     "status": "ok",
     "timestamp": 1630990908989,
     "user": {
      "displayName": "Mahesh Anand",
      "photoUrl": "https://lh3.googleusercontent.com/a-/AOh14Ghy47CXBCGfpGm71ElmYPDEY5c3AQB5tdq4ROpemw=s64",
      "userId": "06788086636039591358"
     },
     "user_tz": -330
    },
    "id": "VxXM-C5nZiiH",
    "outputId": "1d4d50b8-e5f1-4c2f-fbff-4b09e8980304"
   },
   "outputs": [
    {
     "data": {
      "text/plain": [
       "array([[9.91163644e-01, 1.25110900e-03, 7.58524741e-03],\n",
       "       [2.40941697e-06, 9.36228711e-08, 9.99997497e-01],\n",
       "       [6.71240309e-03, 9.91792088e-01, 1.49550884e-03],\n",
       "       [9.85707462e-01, 2.01636637e-03, 1.22761718e-02],\n",
       "       [4.69719565e-03, 9.93612018e-01, 1.69078611e-03],\n",
       "       [7.80088388e-04, 9.92166101e-01, 7.05381035e-03],\n",
       "       [9.99367919e-01, 1.30257074e-04, 5.01824063e-04],\n",
       "       [7.53967537e-04, 5.68179601e-05, 9.99189215e-01],\n",
       "       [1.56353769e-02, 9.81848996e-01, 2.51562757e-03],\n",
       "       [4.08645716e-03, 9.94372493e-01, 1.54105004e-03]])"
      ]
     },
     "execution_count": 23,
     "metadata": {},
     "output_type": "execute_result"
    }
   ],
   "source": [
    "LR.fit(xtrain,ytrain)\n",
    "y_prob=LR.predict_proba(xtest)\n",
    "y_prob[:10]"
   ]
  },
  {
   "cell_type": "code",
   "execution_count": 24,
   "metadata": {
    "colab": {
     "base_uri": "https://localhost:8080/"
    },
    "executionInfo": {
     "elapsed": 1005,
     "status": "ok",
     "timestamp": 1630990949839,
     "user": {
      "displayName": "Mahesh Anand",
      "photoUrl": "https://lh3.googleusercontent.com/a-/AOh14Ghy47CXBCGfpGm71ElmYPDEY5c3AQB5tdq4ROpemw=s64",
      "userId": "06788086636039591358"
     },
     "user_tz": -330
    },
    "id": "L3zqHxmPuXne",
    "outputId": "1df24b42-03dc-4066-d807-dde61b56392f"
   },
   "outputs": [
    {
     "data": {
      "text/plain": [
       "array([1, 3, 2, 1, 2, 2, 1, 3, 2, 2], dtype=int64)"
      ]
     },
     "execution_count": 24,
     "metadata": {},
     "output_type": "execute_result"
    }
   ],
   "source": [
    "y_class=LR.predict(xtest)\n",
    "y_class[:10]"
   ]
  },
  {
   "cell_type": "code",
   "execution_count": 25,
   "metadata": {
    "id": "mwlhx6p3udDs"
   },
   "outputs": [],
   "source": [
    "from sklearn import metrics"
   ]
  },
  {
   "cell_type": "code",
   "execution_count": 26,
   "metadata": {
    "colab": {
     "base_uri": "https://localhost:8080/"
    },
    "executionInfo": {
     "elapsed": 16,
     "status": "ok",
     "timestamp": 1630990953765,
     "user": {
      "displayName": "Mahesh Anand",
      "photoUrl": "https://lh3.googleusercontent.com/a-/AOh14Ghy47CXBCGfpGm71ElmYPDEY5c3AQB5tdq4ROpemw=s64",
      "userId": "06788086636039591358"
     },
     "user_tz": -330
    },
    "id": "C15q2Cr-Ra6k",
    "outputId": "5bd7285d-cd62-4f4c-a98d-59ff73154ce5"
   },
   "outputs": [
    {
     "name": "stdout",
     "output_type": "stream",
     "text": [
      "[[17  2  0]\n",
      " [ 0 21  1]\n",
      " [ 0  0 13]]\n"
     ]
    }
   ],
   "source": [
    "cm=metrics.confusion_matrix(ytest,y_class)\n",
    "print(cm)"
   ]
  },
  {
   "cell_type": "code",
   "execution_count": 27,
   "metadata": {
    "colab": {
     "base_uri": "https://localhost:8080/"
    },
    "executionInfo": {
     "elapsed": 370,
     "status": "ok",
     "timestamp": 1629217944216,
     "user": {
      "displayName": "Mahesh Anand",
      "photoUrl": "https://lh3.googleusercontent.com/a-/AOh14Ghy47CXBCGfpGm71ElmYPDEY5c3AQB5tdq4ROpemw=s64",
      "userId": "06788086636039591358"
     },
     "user_tz": -330
    },
    "id": "LGBly6-puoFn",
    "outputId": "6a26f1f5-ba2e-4f67-a031-23e9e88054a0"
   },
   "outputs": [
    {
     "name": "stdout",
     "output_type": "stream",
     "text": [
      "              precision    recall  f1-score   support\n",
      "\n",
      "           1       1.00      0.89      0.94        19\n",
      "           2       0.91      0.95      0.93        22\n",
      "           3       0.93      1.00      0.96        13\n",
      "\n",
      "    accuracy                           0.94        54\n",
      "   macro avg       0.95      0.95      0.95        54\n",
      "weighted avg       0.95      0.94      0.94        54\n",
      "\n"
     ]
    }
   ],
   "source": [
    "cr=metrics.classification_report(ytest,y_class)\n",
    "print(cr)"
   ]
  },
  {
   "cell_type": "code",
   "execution_count": 28,
   "metadata": {
    "colab": {
     "base_uri": "https://localhost:8080/"
    },
    "executionInfo": {
     "elapsed": 552,
     "status": "ok",
     "timestamp": 1631002135261,
     "user": {
      "displayName": "Mahesh Anand",
      "photoUrl": "https://lh3.googleusercontent.com/a-/AOh14Ghy47CXBCGfpGm71ElmYPDEY5c3AQB5tdq4ROpemw=s64",
      "userId": "06788086636039591358"
     },
     "user_tz": -330
    },
    "id": "XCPzVB0AXFMs",
    "outputId": "8a629c9a-427b-4b24-f97b-b4697fb1387d"
   },
   "outputs": [
    {
     "data": {
      "text/plain": [
       "(0.9658192090395481, 0.05920286658639382)"
      ]
     },
     "execution_count": 28,
     "metadata": {},
     "output_type": "execute_result"
    }
   ],
   "source": [
    "kf=KFold(n_splits=3,shuffle=True,random_state=0)\n",
    "score=cross_val_score(LR,X_std,Y,cv=kf,scoring='f1_weighted')\n",
    "np.mean(score),np.std(score,ddof=1)"
   ]
  },
  {
   "cell_type": "code",
   "execution_count": 29,
   "metadata": {
    "colab": {
     "base_uri": "https://localhost:8080/"
    },
    "executionInfo": {
     "elapsed": 8,
     "status": "ok",
     "timestamp": 1630997912189,
     "user": {
      "displayName": "Mahesh Anand",
      "photoUrl": "https://lh3.googleusercontent.com/a-/AOh14Ghy47CXBCGfpGm71ElmYPDEY5c3AQB5tdq4ROpemw=s64",
      "userId": "06788086636039591358"
     },
     "user_tz": -330
    },
    "id": "IwC0DXi0DLWc",
    "outputId": "90fd1f90-1e10-4d5c-ce23-4393e2cfefa8"
   },
   "outputs": [
    {
     "data": {
      "text/plain": [
       "array([1.        , 0.89745763, 1.        ])"
      ]
     },
     "execution_count": 29,
     "metadata": {},
     "output_type": "execute_result"
    }
   ],
   "source": [
    "score"
   ]
  },
  {
   "cell_type": "code",
   "execution_count": 30,
   "metadata": {
    "colab": {
     "base_uri": "https://localhost:8080/"
    },
    "executionInfo": {
     "elapsed": 421,
     "status": "ok",
     "timestamp": 1630992580067,
     "user": {
      "displayName": "Mahesh Anand",
      "photoUrl": "https://lh3.googleusercontent.com/a-/AOh14Ghy47CXBCGfpGm71ElmYPDEY5c3AQB5tdq4ROpemw=s64",
      "userId": "06788086636039591358"
     },
     "user_tz": -330
    },
    "id": "7oALzxhwu5-M",
    "outputId": "8e3e5aee-9af2-4ae4-d7a6-17d92a4400e8"
   },
   "outputs": [
    {
     "data": {
      "text/plain": [
       "0.05700000000000005"
      ]
     },
     "execution_count": 30,
     "metadata": {},
     "output_type": "execute_result"
    }
   ],
   "source": [
    "1-.943"
   ]
  },
  {
   "cell_type": "code",
   "execution_count": 31,
   "metadata": {
    "colab": {
     "base_uri": "https://localhost:8080/"
    },
    "executionInfo": {
     "elapsed": 365,
     "status": "ok",
     "timestamp": 1629218043803,
     "user": {
      "displayName": "Mahesh Anand",
      "photoUrl": "https://lh3.googleusercontent.com/a-/AOh14Ghy47CXBCGfpGm71ElmYPDEY5c3AQB5tdq4ROpemw=s64",
      "userId": "06788086636039591358"
     },
     "user_tz": -330
    },
    "id": "ZHNL4Rea9mcL",
    "outputId": "c08096b8-1832-493e-8b1d-8e04f69c0095"
   },
   "outputs": [
    {
     "data": {
      "text/plain": [
       "array([1.        , 0.89745763, 1.        ])"
      ]
     },
     "execution_count": 31,
     "metadata": {},
     "output_type": "execute_result"
    }
   ],
   "source": [
    "score"
   ]
  },
  {
   "cell_type": "code",
   "execution_count": 32,
   "metadata": {
    "colab": {
     "base_uri": "https://localhost:8080/"
    },
    "executionInfo": {
     "elapsed": 356,
     "status": "ok",
     "timestamp": 1629218078799,
     "user": {
      "displayName": "Mahesh Anand",
      "photoUrl": "https://lh3.googleusercontent.com/a-/AOh14Ghy47CXBCGfpGm71ElmYPDEY5c3AQB5tdq4ROpemw=s64",
      "userId": "06788086636039591358"
     },
     "user_tz": -330
    },
    "id": "JkmIvp4yomxA",
    "outputId": "f780f24b-0022-4cac-fc1c-c54580cd0f43"
   },
   "outputs": [
    {
     "data": {
      "text/plain": [
       "array([[9.99999998e-01, 2.06943921e-09, 1.71880603e-29],\n",
       "       [3.41006589e-22, 4.31658902e-26, 1.00000000e+00],\n",
       "       [1.35567177e-02, 9.86443282e-01, 2.19527861e-32],\n",
       "       [1.00000000e+00, 1.82933294e-10, 1.73174421e-30],\n",
       "       [3.98883079e-08, 9.99999960e-01, 1.61611888e-17],\n",
       "       [7.31736779e-06, 9.99992683e-01, 7.45625321e-64],\n",
       "       [1.00000000e+00, 2.39877025e-10, 4.18718403e-34],\n",
       "       [7.62131635e-23, 5.70973815e-13, 1.00000000e+00],\n",
       "       [4.64976182e-09, 9.99999995e-01, 4.18584637e-16],\n",
       "       [2.10139045e-14, 9.99999828e-01, 1.71825557e-07]])"
      ]
     },
     "execution_count": 32,
     "metadata": {},
     "output_type": "execute_result"
    }
   ],
   "source": [
    "NB.fit(xtrain,ytrain)\n",
    "y_prob=NB.predict_proba(xtest)\n",
    "y_prob[:10]"
   ]
  },
  {
   "cell_type": "code",
   "execution_count": 33,
   "metadata": {
    "colab": {
     "base_uri": "https://localhost:8080/"
    },
    "executionInfo": {
     "elapsed": 404,
     "status": "ok",
     "timestamp": 1629218083502,
     "user": {
      "displayName": "Mahesh Anand",
      "photoUrl": "https://lh3.googleusercontent.com/a-/AOh14Ghy47CXBCGfpGm71ElmYPDEY5c3AQB5tdq4ROpemw=s64",
      "userId": "06788086636039591358"
     },
     "user_tz": -330
    },
    "id": "rLETITmlo2Sv",
    "outputId": "b12aaf4a-4910-4f7e-8633-cadebf1bbabb"
   },
   "outputs": [
    {
     "data": {
      "text/plain": [
       "array([1, 3, 2, 1, 2, 2, 1, 3, 2, 2], dtype=int64)"
      ]
     },
     "execution_count": 33,
     "metadata": {},
     "output_type": "execute_result"
    }
   ],
   "source": [
    "y_class=NB.predict(xtest)\n",
    "y_class[:10]"
   ]
  },
  {
   "cell_type": "code",
   "execution_count": 34,
   "metadata": {
    "colab": {
     "base_uri": "https://localhost:8080/"
    },
    "executionInfo": {
     "elapsed": 425,
     "status": "ok",
     "timestamp": 1629218086950,
     "user": {
      "displayName": "Mahesh Anand",
      "photoUrl": "https://lh3.googleusercontent.com/a-/AOh14Ghy47CXBCGfpGm71ElmYPDEY5c3AQB5tdq4ROpemw=s64",
      "userId": "06788086636039591358"
     },
     "user_tz": -330
    },
    "id": "u-D_mli3pAPp",
    "outputId": "c60dc7c2-c251-420f-bf3c-4e52aa858c4a"
   },
   "outputs": [
    {
     "name": "stdout",
     "output_type": "stream",
     "text": [
      "[[19  0  0]\n",
      " [ 2 19  1]\n",
      " [ 0  0 13]]\n"
     ]
    }
   ],
   "source": [
    "cm=metrics.confusion_matrix(ytest,y_class)\n",
    "print(cm)"
   ]
  },
  {
   "cell_type": "code",
   "execution_count": 35,
   "metadata": {
    "colab": {
     "base_uri": "https://localhost:8080/"
    },
    "executionInfo": {
     "elapsed": 578,
     "status": "ok",
     "timestamp": 1629218089149,
     "user": {
      "displayName": "Mahesh Anand",
      "photoUrl": "https://lh3.googleusercontent.com/a-/AOh14Ghy47CXBCGfpGm71ElmYPDEY5c3AQB5tdq4ROpemw=s64",
      "userId": "06788086636039591358"
     },
     "user_tz": -330
    },
    "id": "GyASk84UpEbl",
    "outputId": "542f2cfa-de25-452b-ce74-c8fcc3d72469"
   },
   "outputs": [
    {
     "name": "stdout",
     "output_type": "stream",
     "text": [
      "              precision    recall  f1-score   support\n",
      "\n",
      "           1       0.90      1.00      0.95        19\n",
      "           2       1.00      0.86      0.93        22\n",
      "           3       0.93      1.00      0.96        13\n",
      "\n",
      "    accuracy                           0.94        54\n",
      "   macro avg       0.94      0.95      0.95        54\n",
      "weighted avg       0.95      0.94      0.94        54\n",
      "\n"
     ]
    }
   ],
   "source": [
    "cr=metrics.classification_report(ytest,y_class)\n",
    "print(cr)"
   ]
  },
  {
   "cell_type": "code",
   "execution_count": 36,
   "metadata": {
    "colab": {
     "base_uri": "https://localhost:8080/"
    },
    "executionInfo": {
     "elapsed": 10,
     "status": "ok",
     "timestamp": 1631002148342,
     "user": {
      "displayName": "Mahesh Anand",
      "photoUrl": "https://lh3.googleusercontent.com/a-/AOh14Ghy47CXBCGfpGm71ElmYPDEY5c3AQB5tdq4ROpemw=s64",
      "userId": "06788086636039591358"
     },
     "user_tz": -330
    },
    "id": "1_gaeg9JpY34",
    "outputId": "909304d0-94c6-4499-daad-84861f2830ed"
   },
   "outputs": [
    {
     "data": {
      "text/plain": [
       "(0.9490931320063195, 0.00031152756735189824)"
      ]
     },
     "execution_count": 36,
     "metadata": {},
     "output_type": "execute_result"
    }
   ],
   "source": [
    "kf=KFold(n_splits=3,shuffle=True,random_state=0)\n",
    "score=cross_val_score(NB,X_std,Y,cv=kf,scoring='f1_weighted')\n",
    "np.mean(score),np.std(score,ddof=1)"
   ]
  },
  {
   "cell_type": "code",
   "execution_count": 37,
   "metadata": {
    "colab": {
     "base_uri": "https://localhost:8080/"
    },
    "executionInfo": {
     "elapsed": 12,
     "status": "ok",
     "timestamp": 1630997957920,
     "user": {
      "displayName": "Mahesh Anand",
      "photoUrl": "https://lh3.googleusercontent.com/a-/AOh14Ghy47CXBCGfpGm71ElmYPDEY5c3AQB5tdq4ROpemw=s64",
      "userId": "06788086636039591358"
     },
     "user_tz": -330
    },
    "id": "PIbLvU_R95zR",
    "outputId": "a62891ed-2200-49e8-fcdc-c60ef7734fed"
   },
   "outputs": [
    {
     "data": {
      "text/plain": [
       "array([0.94937951, 0.94876142, 0.94913847])"
      ]
     },
     "execution_count": 37,
     "metadata": {},
     "output_type": "execute_result"
    }
   ],
   "source": [
    "score"
   ]
  },
  {
   "cell_type": "code",
   "execution_count": 38,
   "metadata": {
    "colab": {
     "base_uri": "https://localhost:8080/"
    },
    "executionInfo": {
     "elapsed": 369,
     "status": "ok",
     "timestamp": 1629366825905,
     "user": {
      "displayName": "Mahesh Anand",
      "photoUrl": "https://lh3.googleusercontent.com/a-/AOh14Ghy47CXBCGfpGm71ElmYPDEY5c3AQB5tdq4ROpemw=s64",
      "userId": "06788086636039591358"
     },
     "user_tz": -330
    },
    "id": "vTGAzf801H9D",
    "outputId": "3d0e1f4b-3add-4934-874d-e4bbe9dfb5e7"
   },
   "outputs": [
    {
     "data": {
      "text/plain": [
       "(178, 13)"
      ]
     },
     "execution_count": 38,
     "metadata": {},
     "output_type": "execute_result"
    }
   ],
   "source": [
    "X_std.shape"
   ]
  },
  {
   "cell_type": "code",
   "execution_count": 39,
   "metadata": {
    "id": "DDc0yIKW951O"
   },
   "outputs": [],
   "source": [
    "from sklearn.model_selection import GridSearchCV\n",
    "from sklearn.neighbors import KNeighborsClassifier"
   ]
  },
  {
   "cell_type": "code",
   "execution_count": 40,
   "metadata": {
    "colab": {
     "base_uri": "https://localhost:8080/"
    },
    "executionInfo": {
     "elapsed": 1136,
     "status": "ok",
     "timestamp": 1631002177965,
     "user": {
      "displayName": "Mahesh Anand",
      "photoUrl": "https://lh3.googleusercontent.com/a-/AOh14Ghy47CXBCGfpGm71ElmYPDEY5c3AQB5tdq4ROpemw=s64",
      "userId": "06788086636039591358"
     },
     "user_tz": -330
    },
    "id": "EFsD-SgJ1DZm",
    "outputId": "a41c2589-3266-4648-ab63-a863a1bf4d15"
   },
   "outputs": [
    {
     "data": {
      "text/plain": [
       "GridSearchCV(cv=KFold(n_splits=3, random_state=0, shuffle=True),\n",
       "             estimator=KNeighborsClassifier(),\n",
       "             param_grid={'n_neighbors': array([ 1,  2,  3,  4,  5,  6,  7,  8,  9, 10, 11, 12, 13, 14, 15, 16, 17,\n",
       "       18, 19, 20, 21, 22, 23, 24, 25, 26, 27, 28, 29, 30, 31, 32, 33, 34,\n",
       "       35, 36, 37, 38, 39, 40, 41, 42, 43, 44, 45, 46, 47, 48, 49]),\n",
       "                         'weights': ['uniform', 'distance']},\n",
       "             scoring='f1_weighted')"
      ]
     },
     "execution_count": 40,
     "metadata": {},
     "output_type": "execute_result"
    }
   ],
   "source": [
    "knn=KNeighborsClassifier()\n",
    "params={'n_neighbors':np.arange(1,50),'weights':['uniform','distance']}\n",
    "kf=KFold(n_splits=3,shuffle=True,random_state=0)\n",
    "GS=GridSearchCV(knn,params,cv=kf,scoring='f1_weighted')\n",
    "GS.fit(X_std,Y)"
   ]
  },
  {
   "cell_type": "code",
   "execution_count": 41,
   "metadata": {
    "colab": {
     "base_uri": "https://localhost:8080/"
    },
    "executionInfo": {
     "elapsed": 678,
     "status": "ok",
     "timestamp": 1631002182109,
     "user": {
      "displayName": "Mahesh Anand",
      "photoUrl": "https://lh3.googleusercontent.com/a-/AOh14Ghy47CXBCGfpGm71ElmYPDEY5c3AQB5tdq4ROpemw=s64",
      "userId": "06788086636039591358"
     },
     "user_tz": -330
    },
    "id": "dEjM9vAg1TOv",
    "outputId": "bd5d6531-bebc-4516-898d-1527708d648e"
   },
   "outputs": [
    {
     "data": {
      "text/plain": [
       "{'n_neighbors': 13, 'weights': 'uniform'}"
      ]
     },
     "execution_count": 41,
     "metadata": {},
     "output_type": "execute_result"
    }
   ],
   "source": [
    "GS.best_params_"
   ]
  },
  {
   "cell_type": "code",
   "execution_count": 42,
   "metadata": {
    "id": "R_h-v07H1V18"
   },
   "outputs": [],
   "source": [
    "knn_tuned=KNeighborsClassifier(n_neighbors=13,weights='uniform')"
   ]
  },
  {
   "cell_type": "code",
   "execution_count": 43,
   "metadata": {
    "colab": {
     "base_uri": "https://localhost:8080/"
    },
    "executionInfo": {
     "elapsed": 506,
     "status": "ok",
     "timestamp": 1631002208952,
     "user": {
      "displayName": "Mahesh Anand",
      "photoUrl": "https://lh3.googleusercontent.com/a-/AOh14Ghy47CXBCGfpGm71ElmYPDEY5c3AQB5tdq4ROpemw=s64",
      "userId": "06788086636039591358"
     },
     "user_tz": -330
    },
    "id": "6UFX0gz-1c5R",
    "outputId": "8f76d63f-b99c-4729-bccd-de0ce26b1514"
   },
   "outputs": [
    {
     "name": "stdout",
     "output_type": "stream",
     "text": [
      "0.9771099712558232\n",
      "0.039646692771626336\n"
     ]
    }
   ],
   "source": [
    "score=cross_val_score(knn_tuned,X_std,Y,cv=kf,scoring='f1_weighted')\n",
    "print(np.mean(score))\n",
    "print(np.std(score,ddof=1))"
   ]
  },
  {
   "cell_type": "code",
   "execution_count": 44,
   "metadata": {
    "colab": {
     "base_uri": "https://localhost:8080/"
    },
    "executionInfo": {
     "elapsed": 446,
     "status": "ok",
     "timestamp": 1631002224131,
     "user": {
      "displayName": "Mahesh Anand",
      "photoUrl": "https://lh3.googleusercontent.com/a-/AOh14Ghy47CXBCGfpGm71ElmYPDEY5c3AQB5tdq4ROpemw=s64",
      "userId": "06788086636039591358"
     },
     "user_tz": -330
    },
    "id": "p9qL83r7TsW5",
    "outputId": "e94a5cb2-2ef0-4370-c6ec-5128b68e4dca"
   },
   "outputs": [
    {
     "data": {
      "text/plain": [
       "array([1.        , 0.93132991, 1.        ])"
      ]
     },
     "execution_count": 44,
     "metadata": {},
     "output_type": "execute_result"
    }
   ],
   "source": [
    "score"
   ]
  },
  {
   "cell_type": "code",
   "execution_count": 45,
   "metadata": {
    "colab": {
     "base_uri": "https://localhost:8080/"
    },
    "executionInfo": {
     "elapsed": 345,
     "status": "ok",
     "timestamp": 1629391106974,
     "user": {
      "displayName": "Mahesh Anand",
      "photoUrl": "https://lh3.googleusercontent.com/a-/AOh14Ghy47CXBCGfpGm71ElmYPDEY5c3AQB5tdq4ROpemw=s64",
      "userId": "06788086636039591358"
     },
     "user_tz": -330
    },
    "id": "kRSnB0Hx157P",
    "outputId": "1a4c2c37-0063-4534-bac2-bd590a46a107"
   },
   "outputs": [
    {
     "data": {
      "text/plain": [
       "array([1.        , 0.93132991, 1.        ])"
      ]
     },
     "execution_count": 45,
     "metadata": {},
     "output_type": "execute_result"
    }
   ],
   "source": [
    "score"
   ]
  },
  {
   "cell_type": "code",
   "execution_count": 46,
   "metadata": {
    "colab": {
     "base_uri": "https://localhost:8080/"
    },
    "executionInfo": {
     "elapsed": 355,
     "status": "ok",
     "timestamp": 1629978620523,
     "user": {
      "displayName": "Mahesh Anand",
      "photoUrl": "https://lh3.googleusercontent.com/a-/AOh14Ghy47CXBCGfpGm71ElmYPDEY5c3AQB5tdq4ROpemw=s64",
      "userId": "06788086636039591358"
     },
     "user_tz": -330
    },
    "id": "N5Rm4fejtMWQ",
    "outputId": "09c3defe-14dc-48d3-e5bf-af05553a2706"
   },
   "outputs": [
    {
     "data": {
      "text/plain": [
       "DecisionTreeClassifier()"
      ]
     },
     "execution_count": 46,
     "metadata": {},
     "output_type": "execute_result"
    }
   ],
   "source": [
    "DT=DecisionTreeClassifier()\n",
    "DT.fit(xtrain,ytrain)"
   ]
  },
  {
   "cell_type": "code",
   "execution_count": 47,
   "metadata": {
    "id": "XpSleEW_2gdz"
   },
   "outputs": [],
   "source": [
    "dt_predict_train=DT.predict(xtrain)\n",
    "dt_predict_test=DT.predict(xtest)"
   ]
  },
  {
   "cell_type": "code",
   "execution_count": 48,
   "metadata": {
    "id": "TE1-gVnc2m0q"
   },
   "outputs": [],
   "source": [
    "from sklearn import metrics"
   ]
  },
  {
   "cell_type": "code",
   "execution_count": 49,
   "metadata": {
    "colab": {
     "base_uri": "https://localhost:8080/"
    },
    "executionInfo": {
     "elapsed": 324,
     "status": "ok",
     "timestamp": 1629820338885,
     "user": {
      "displayName": "Mahesh Anand",
      "photoUrl": "https://lh3.googleusercontent.com/a-/AOh14Ghy47CXBCGfpGm71ElmYPDEY5c3AQB5tdq4ROpemw=s64",
      "userId": "06788086636039591358"
     },
     "user_tz": -330
    },
    "id": "ktcZ1YGL2smp",
    "outputId": "391222bb-a2f6-4af3-8897-e57ef86713d4"
   },
   "outputs": [
    {
     "name": "stdout",
     "output_type": "stream",
     "text": [
      "[[40  0  0]\n",
      " [ 0 49  0]\n",
      " [ 0  0 35]]\n"
     ]
    }
   ],
   "source": [
    "cm_dt_train=metrics.confusion_matrix(ytrain,dt_predict_train)\n",
    "print(cm_dt_train)"
   ]
  },
  {
   "cell_type": "code",
   "execution_count": 50,
   "metadata": {
    "colab": {
     "base_uri": "https://localhost:8080/"
    },
    "executionInfo": {
     "elapsed": 368,
     "status": "ok",
     "timestamp": 1629820413016,
     "user": {
      "displayName": "Mahesh Anand",
      "photoUrl": "https://lh3.googleusercontent.com/a-/AOh14Ghy47CXBCGfpGm71ElmYPDEY5c3AQB5tdq4ROpemw=s64",
      "userId": "06788086636039591358"
     },
     "user_tz": -330
    },
    "id": "ppm8BhaX3arh",
    "outputId": "1871c9ca-0229-4e12-901f-ecbaa6d3b5b5"
   },
   "outputs": [
    {
     "name": "stdout",
     "output_type": "stream",
     "text": [
      "              precision    recall  f1-score   support\n",
      "\n",
      "           1       1.00      1.00      1.00        40\n",
      "           2       1.00      1.00      1.00        49\n",
      "           3       1.00      1.00      1.00        35\n",
      "\n",
      "    accuracy                           1.00       124\n",
      "   macro avg       1.00      1.00      1.00       124\n",
      "weighted avg       1.00      1.00      1.00       124\n",
      "\n"
     ]
    }
   ],
   "source": [
    "cr_dt_train=metrics.classification_report(ytrain,dt_predict_train)\n",
    "print(cr_dt_train)"
   ]
  },
  {
   "cell_type": "code",
   "execution_count": 51,
   "metadata": {
    "colab": {
     "base_uri": "https://localhost:8080/"
    },
    "executionInfo": {
     "elapsed": 361,
     "status": "ok",
     "timestamp": 1629820345699,
     "user": {
      "displayName": "Mahesh Anand",
      "photoUrl": "https://lh3.googleusercontent.com/a-/AOh14Ghy47CXBCGfpGm71ElmYPDEY5c3AQB5tdq4ROpemw=s64",
      "userId": "06788086636039591358"
     },
     "user_tz": -330
    },
    "id": "xfpFzE3M3GUz",
    "outputId": "aec63d8b-5212-4caf-aed7-cd5c737ce1b3"
   },
   "outputs": [
    {
     "name": "stdout",
     "output_type": "stream",
     "text": [
      "[[18  1  0]\n",
      " [ 5 16  1]\n",
      " [ 0  0 13]]\n"
     ]
    }
   ],
   "source": [
    "cm_dt_test=metrics.confusion_matrix(ytest,dt_predict_test)\n",
    "print(cm_dt_test)"
   ]
  },
  {
   "cell_type": "code",
   "execution_count": 52,
   "metadata": {
    "colab": {
     "base_uri": "https://localhost:8080/"
    },
    "executionInfo": {
     "elapsed": 351,
     "status": "ok",
     "timestamp": 1629820386643,
     "user": {
      "displayName": "Mahesh Anand",
      "photoUrl": "https://lh3.googleusercontent.com/a-/AOh14Ghy47CXBCGfpGm71ElmYPDEY5c3AQB5tdq4ROpemw=s64",
      "userId": "06788086636039591358"
     },
     "user_tz": -330
    },
    "id": "jRBEeNLN3R5h",
    "outputId": "e8f9392e-0147-461c-afc7-9541ceca43a9"
   },
   "outputs": [
    {
     "name": "stdout",
     "output_type": "stream",
     "text": [
      "              precision    recall  f1-score   support\n",
      "\n",
      "           1       0.78      0.95      0.86        19\n",
      "           2       0.94      0.73      0.82        22\n",
      "           3       0.93      1.00      0.96        13\n",
      "\n",
      "    accuracy                           0.87        54\n",
      "   macro avg       0.88      0.89      0.88        54\n",
      "weighted avg       0.88      0.87      0.87        54\n",
      "\n"
     ]
    }
   ],
   "source": [
    "cr_dt_test=metrics.classification_report(ytest,dt_predict_test)\n",
    "print(cr_dt_test)"
   ]
  },
  {
   "cell_type": "code",
   "execution_count": 53,
   "metadata": {
    "id": "b0SUupD7tTeU"
   },
   "outputs": [],
   "source": [
    "from IPython.display import Image  \n",
    "#import pydotplus as pydot\n",
    "from sklearn import tree\n",
    "from os import system\n",
    "train_char_label = ['cult1', 'cult2','cult3']\n",
    "DT_Tree_File = open('Wine_tree.dot','w')\n",
    "dot_data = tree.export_graphviz(DT, out_file=DT_Tree_File, feature_names = list(xtrain), class_names = list(train_char_label))\n",
    "\n",
    "DT_Tree_File.close()"
   ]
  },
  {
   "cell_type": "code",
   "execution_count": 54,
   "metadata": {
    "colab": {
     "base_uri": "https://localhost:8080/"
    },
    "executionInfo": {
     "elapsed": 340,
     "status": "ok",
     "timestamp": 1629822807883,
     "user": {
      "displayName": "Mahesh Anand",
      "photoUrl": "https://lh3.googleusercontent.com/a-/AOh14Ghy47CXBCGfpGm71ElmYPDEY5c3AQB5tdq4ROpemw=s64",
      "userId": "06788086636039591358"
     },
     "user_tz": -330
    },
    "id": "lCp8o_ait0By",
    "outputId": "91689bcf-fd9b-4543-f615-c1d2d75831a3"
   },
   "outputs": [
    {
     "name": "stdout",
     "output_type": "stream",
     "text": [
      "                           Imp\n",
      "Alchol                0.000000\n",
      "Malic_Acid            0.000000\n",
      "Ash                   0.023891\n",
      "Alcalinity_of_Ash     0.000000\n",
      "Magnesium             0.000000\n",
      "Total_phenols         0.020361\n",
      "Flavanoids            0.417538\n",
      "Nonflavanoid_phenols  0.000000\n",
      "Proanthocyanins       0.000000\n",
      "Color_intensity       0.406217\n",
      "Hue                   0.000000\n",
      "OD280                 0.000000\n",
      "Proline               0.131994\n"
     ]
    }
   ],
   "source": [
    "print (pd.DataFrame(DT.feature_importances_, columns = [\"Imp\"], index = X.columns))"
   ]
  },
  {
   "cell_type": "code",
   "execution_count": 55,
   "metadata": {
    "colab": {
     "base_uri": "https://localhost:8080/"
    },
    "executionInfo": {
     "elapsed": 357,
     "status": "ok",
     "timestamp": 1629823868978,
     "user": {
      "displayName": "Mahesh Anand",
      "photoUrl": "https://lh3.googleusercontent.com/a-/AOh14Ghy47CXBCGfpGm71ElmYPDEY5c3AQB5tdq4ROpemw=s64",
      "userId": "06788086636039591358"
     },
     "user_tz": -330
    },
    "id": "MvMPUqkFEmsa",
    "outputId": "594ec60a-19ad-4c53-8a77-1e16b1fa8b69"
   },
   "outputs": [
    {
     "data": {
      "text/plain": [
       "0.22857156582982338"
      ]
     },
     "execution_count": 55,
     "metadata": {},
     "output_type": "execute_result"
    }
   ],
   "source": [
    "X['Hue'].std()"
   ]
  },
  {
   "cell_type": "code",
   "execution_count": 56,
   "metadata": {
    "colab": {
     "base_uri": "https://localhost:8080/"
    },
    "executionInfo": {
     "elapsed": 355,
     "status": "ok",
     "timestamp": 1629823928639,
     "user": {
      "displayName": "Mahesh Anand",
      "photoUrl": "https://lh3.googleusercontent.com/a-/AOh14Ghy47CXBCGfpGm71ElmYPDEY5c3AQB5tdq4ROpemw=s64",
      "userId": "06788086636039591358"
     },
     "user_tz": -330
    },
    "id": "ZK9hCWWYEv98",
    "outputId": "c2eb39a1-8cdd-451f-ad59-e0b756177b2f"
   },
   "outputs": [
    {
     "data": {
      "text/plain": [
       "0.22857156582982338"
      ]
     },
     "execution_count": 56,
     "metadata": {},
     "output_type": "execute_result"
    }
   ],
   "source": [
    "np.std(X['Hue'],ddof=1)"
   ]
  },
  {
   "cell_type": "code",
   "execution_count": 57,
   "metadata": {
    "id": "UMU-0NqxSd4j"
   },
   "outputs": [],
   "source": [
    "from sklearn.tree import DecisionTreeClassifier\n",
    "from sklearn.ensemble import RandomForestClassifier"
   ]
  },
  {
   "cell_type": "code",
   "execution_count": 58,
   "metadata": {
    "id": "7RxYWsZZUw7k"
   },
   "outputs": [],
   "source": [
    "DT_be=[]\n",
    "DT_ve=[]\n",
    "for i in np.arange(1,10):\n",
    "  DT=DecisionTreeClassifier(max_depth=i,random_state=0)\n",
    "  kf=KFold(n_splits=3,shuffle=True,random_state=0)\n",
    "  scores=cross_val_score(DT,X,Y,scoring='f1_weighted')\n",
    "  DT_be.append(np.mean(1-scores))\n",
    "  DT_ve.append(np.std(scores,ddof=1))"
   ]
  },
  {
   "cell_type": "code",
   "execution_count": 59,
   "metadata": {
    "colab": {
     "base_uri": "https://localhost:8080/"
    },
    "executionInfo": {
     "elapsed": 362,
     "status": "ok",
     "timestamp": 1629994372431,
     "user": {
      "displayName": "Mahesh Anand",
      "photoUrl": "https://lh3.googleusercontent.com/a-/AOh14Ghy47CXBCGfpGm71ElmYPDEY5c3AQB5tdq4ROpemw=s64",
      "userId": "06788086636039591358"
     },
     "user_tz": -330
    },
    "id": "Xu5pxHbmU-Ta",
    "outputId": "8165bb15-84bf-4dd8-d9b4-bbbbe1aa076d"
   },
   "outputs": [
    {
     "data": {
      "text/plain": [
       "(3, 0.04505939965705464)"
      ]
     },
     "execution_count": 59,
     "metadata": {},
     "output_type": "execute_result"
    }
   ],
   "source": [
    "np.argmin(DT_ve),np.min(DT_ve)"
   ]
  },
  {
   "cell_type": "code",
   "execution_count": 60,
   "metadata": {
    "id": "AFcAGLj3VKgm"
   },
   "outputs": [],
   "source": [
    "DT_tuned=DecisionTreeClassifier(max_depth=3,random_state=0)"
   ]
  },
  {
   "cell_type": "code",
   "execution_count": 61,
   "metadata": {
    "id": "7O2uJOJESp3U"
   },
   "outputs": [],
   "source": [
    "RF_be=[]\n",
    "RF_ve=[]\n",
    "for i in np.arange(1,100):\n",
    "  RF=RandomForestClassifier(criterion='gini',n_estimators=i,random_state=0)\n",
    "  kf=KFold(n_splits=3,shuffle=True,random_state=0)\n",
    "  scores=cross_val_score(RF,X,Y,scoring='f1_weighted')\n",
    "  RF_be.append(np.mean(1-scores))\n",
    "  RF_ve.append(np.std(scores,ddof=1))"
   ]
  },
  {
   "cell_type": "code",
   "execution_count": 62,
   "metadata": {
    "colab": {
     "base_uri": "https://localhost:8080/"
    },
    "executionInfo": {
     "elapsed": 8,
     "status": "ok",
     "timestamp": 1629995036083,
     "user": {
      "displayName": "Mahesh Anand",
      "photoUrl": "https://lh3.googleusercontent.com/a-/AOh14Ghy47CXBCGfpGm71ElmYPDEY5c3AQB5tdq4ROpemw=s64",
      "userId": "06788086636039591358"
     },
     "user_tz": -330
    },
    "id": "9qHqqGSVTOA3",
    "outputId": "53abc402-3c25-450d-e8fd-a15c1c7cedd6"
   },
   "outputs": [
    {
     "data": {
      "text/plain": [
       "(60, 0.012680068860603404)"
      ]
     },
     "execution_count": 62,
     "metadata": {},
     "output_type": "execute_result"
    }
   ],
   "source": [
    "np.argmin(RF_ve),np.min(RF_ve)"
   ]
  },
  {
   "cell_type": "code",
   "execution_count": 63,
   "metadata": {
    "colab": {
     "base_uri": "https://localhost:8080/",
     "height": 282
    },
    "executionInfo": {
     "elapsed": 421,
     "status": "ok",
     "timestamp": 1629994884038,
     "user": {
      "displayName": "Mahesh Anand",
      "photoUrl": "https://lh3.googleusercontent.com/a-/AOh14Ghy47CXBCGfpGm71ElmYPDEY5c3AQB5tdq4ROpemw=s64",
      "userId": "06788086636039591358"
     },
     "user_tz": -330
    },
    "id": "bhj1Z7biQEjz",
    "outputId": "a1d3cc21-546b-4714-b2e8-8c668ebedd8a"
   },
   "outputs": [
    {
     "data": {
      "text/plain": [
       "[<matplotlib.lines.Line2D at 0x13de3df9880>]"
      ]
     },
     "execution_count": 63,
     "metadata": {},
     "output_type": "execute_result"
    },
    {
     "data": {
      "image/png": "[encoded data removed]",
      "text/plain": [
       "<Figure size 1080x576 with 1 Axes>"
      ]
     },
     "metadata": {
      "needs_background": "light"
     },
     "output_type": "display_data"
    }
   ],
   "source": [
    "X_axis=np.arange(len(RF_ve))\n",
    "plt.plot(X_axis,RF_ve)"
   ]
  },
  {
   "cell_type": "code",
   "execution_count": 64,
   "metadata": {
    "colab": {
     "base_uri": "https://localhost:8080/"
    },
    "executionInfo": {
     "elapsed": 352,
     "status": "ok",
     "timestamp": 1629994482537,
     "user": {
      "displayName": "Mahesh Anand",
      "photoUrl": "https://lh3.googleusercontent.com/a-/AOh14Ghy47CXBCGfpGm71ElmYPDEY5c3AQB5tdq4ROpemw=s64",
      "userId": "06788086636039591358"
     },
     "user_tz": -330
    },
    "id": "WxHohBpXTS6m",
    "outputId": "51c604ae-8f9b-4663-ef9f-f36567f0b0d9"
   },
   "outputs": [
    {
     "data": {
      "text/plain": [
       "(0.8989238426456877, 0.051281209503105)"
      ]
     },
     "execution_count": 64,
     "metadata": {},
     "output_type": "execute_result"
    }
   ],
   "source": [
    "kf=KFold(n_splits=3,shuffle=True,random_state=0)\n",
    "score=cross_val_score(DT_tuned,X,Y,cv=kf,scoring='f1_weighted')\n",
    "np.mean(score),np.std(score,ddof=1)"
   ]
  },
  {
   "cell_type": "code",
   "execution_count": 65,
   "metadata": {
    "id": "fooiHEyFTgkT"
   },
   "outputs": [],
   "source": [
    "RF_tuned=RandomForestClassifier(criterion='entropy',n_estimators=66,random_state=0)"
   ]
  },
  {
   "cell_type": "code",
   "execution_count": 66,
   "metadata": {
    "colab": {
     "base_uri": "https://localhost:8080/"
    },
    "executionInfo": {
     "elapsed": 1098,
     "status": "ok",
     "timestamp": 1630423614086,
     "user": {
      "displayName": "Mahesh Anand",
      "photoUrl": "https://lh3.googleusercontent.com/a-/AOh14Ghy47CXBCGfpGm71ElmYPDEY5c3AQB5tdq4ROpemw=s64",
      "userId": "06788086636039591358"
     },
     "user_tz": -330
    },
    "id": "PE8UPrveTUDf",
    "outputId": "b03eeb36-309c-442a-ca38-18828ab0460d"
   },
   "outputs": [
    {
     "data": {
      "text/plain": [
       "(0.9774145441948994, 0.02607119635442501)"
      ]
     },
     "execution_count": 66,
     "metadata": {},
     "output_type": "execute_result"
    }
   ],
   "source": [
    "kf=KFold(n_splits=3,shuffle=True,random_state=0)\n",
    "score=cross_val_score(RF_tuned,X,Y,cv=kf,scoring='f1_weighted')\n",
    "np.mean(score),np.std(score,ddof=1)"
   ]
  },
  {
   "cell_type": "code",
   "execution_count": 67,
   "metadata": {
    "colab": {
     "base_uri": "https://localhost:8080/"
    },
    "executionInfo": {
     "elapsed": 332,
     "status": "ok",
     "timestamp": 1630423697573,
     "user": {
      "displayName": "Mahesh Anand",
      "photoUrl": "https://lh3.googleusercontent.com/a-/AOh14Ghy47CXBCGfpGm71ElmYPDEY5c3AQB5tdq4ROpemw=s64",
      "userId": "06788086636039591358"
     },
     "user_tz": -330
    },
    "id": "GkysAIXL0xrM",
    "outputId": "cebcc1e4-548e-4a27-ec5c-54bdcc9c5ea6"
   },
   "outputs": [
    {
     "data": {
      "text/plain": [
       "0.02300000000000002"
      ]
     },
     "execution_count": 67,
     "metadata": {},
     "output_type": "execute_result"
    }
   ],
   "source": [
    "1-.977"
   ]
  },
  {
   "cell_type": "code",
   "execution_count": 68,
   "metadata": {
    "colab": {
     "base_uri": "https://localhost:8080/"
    },
    "executionInfo": {
     "elapsed": 328,
     "status": "ok",
     "timestamp": 1630423624881,
     "user": {
      "displayName": "Mahesh Anand",
      "photoUrl": "https://lh3.googleusercontent.com/a-/AOh14Ghy47CXBCGfpGm71ElmYPDEY5c3AQB5tdq4ROpemw=s64",
      "userId": "06788086636039591358"
     },
     "user_tz": -330
    },
    "id": "OjzvzcZ-0hWT",
    "outputId": "71eff577-0d26-4fea-dc51-3f2914edcdd2"
   },
   "outputs": [
    {
     "data": {
      "text/plain": [
       "array([0.98335928, 0.94888435, 1.        ])"
      ]
     },
     "execution_count": 68,
     "metadata": {},
     "output_type": "execute_result"
    }
   ],
   "source": [
    "score"
   ]
  },
  {
   "cell_type": "code",
   "execution_count": 69,
   "metadata": {
    "id": "hRgJNDtIfs_l"
   },
   "outputs": [],
   "source": [
    "from sklearn.ensemble import AdaBoostClassifier,GradientBoostingClassifier"
   ]
  },
  {
   "cell_type": "code",
   "execution_count": 70,
   "metadata": {
    "colab": {
     "base_uri": "https://localhost:8080/"
    },
    "executionInfo": {
     "elapsed": 23944,
     "status": "ok",
     "timestamp": 1630334524685,
     "user": {
      "displayName": "Mahesh Anand",
      "photoUrl": "https://lh3.googleusercontent.com/a-/AOh14Ghy47CXBCGfpGm71ElmYPDEY5c3AQB5tdq4ROpemw=s64",
      "userId": "06788086636039591358"
     },
     "user_tz": -330
    },
    "id": "yAePYaTbf6FJ",
    "outputId": "69cea008-910d-414d-a5c0-c68d154a921d"
   },
   "outputs": [
    {
     "data": {
      "text/plain": [
       "GridSearchCV(cv=KFold(n_splits=3, random_state=0, shuffle=True),\n",
       "             estimator=AdaBoostClassifier(random_state=0),\n",
       "             param_grid={'n_estimators': array([ 1,  2,  3,  4,  5,  6,  7,  8,  9, 10, 11, 12, 13, 14, 15, 16, 17,\n",
       "       18, 19, 20, 21, 22, 23, 24, 25, 26, 27, 28, 29, 30, 31, 32, 33, 34,\n",
       "       35, 36, 37, 38, 39, 40, 41, 42, 43, 44, 45, 46, 47, 48, 49, 50, 51,\n",
       "       52, 53, 54, 55, 56, 57, 58, 59, 60, 61, 62, 63, 64, 65, 66, 67, 68,\n",
       "       69, 70, 71, 72, 73, 74, 75, 76, 77, 78, 79, 80, 81, 82, 83, 84, 85,\n",
       "       86, 87, 88, 89, 90, 91, 92, 93, 94, 95, 96, 97, 98, 99])},\n",
       "             scoring='f1_weighted')"
      ]
     },
     "execution_count": 70,
     "metadata": {},
     "output_type": "execute_result"
    }
   ],
   "source": [
    "Ab=AdaBoostClassifier(random_state=0)\n",
    "params={'n_estimators':np.arange(1,100)}\n",
    "kf=KFold(n_splits=3,shuffle=True,random_state=0)\n",
    "GS=GridSearchCV(Ab,params,cv=kf,scoring='f1_weighted')\n",
    "GS.fit(X,Y)"
   ]
  },
  {
   "cell_type": "code",
   "execution_count": 71,
   "metadata": {
    "colab": {
     "base_uri": "https://localhost:8080/"
    },
    "executionInfo": {
     "elapsed": 373,
     "status": "ok",
     "timestamp": 1630334527621,
     "user": {
      "displayName": "Mahesh Anand",
      "photoUrl": "https://lh3.googleusercontent.com/a-/AOh14Ghy47CXBCGfpGm71ElmYPDEY5c3AQB5tdq4ROpemw=s64",
      "userId": "06788086636039591358"
     },
     "user_tz": -330
    },
    "id": "I4lWTlzlgEid",
    "outputId": "fe737a23-86fe-4d84-f7eb-ac951d365096"
   },
   "outputs": [
    {
     "data": {
      "text/plain": [
       "{'n_estimators': 3}"
      ]
     },
     "execution_count": 71,
     "metadata": {},
     "output_type": "execute_result"
    }
   ],
   "source": [
    "GS.best_params_"
   ]
  },
  {
   "cell_type": "code",
   "execution_count": 72,
   "metadata": {
    "id": "sm8aFh1AgODv"
   },
   "outputs": [],
   "source": [
    "Ab_dt=AdaBoostClassifier(n_estimators=3,random_state=0)"
   ]
  },
  {
   "cell_type": "code",
   "execution_count": 73,
   "metadata": {
    "colab": {
     "base_uri": "https://localhost:8080/"
    },
    "executionInfo": {
     "elapsed": 392,
     "status": "ok",
     "timestamp": 1630424224404,
     "user": {
      "displayName": "Mahesh Anand",
      "photoUrl": "https://lh3.googleusercontent.com/a-/AOh14Ghy47CXBCGfpGm71ElmYPDEY5c3AQB5tdq4ROpemw=s64",
      "userId": "06788086636039591358"
     },
     "user_tz": -330
    },
    "id": "36sNot4Ngk2l",
    "outputId": "a82999bf-dcc8-4b5c-c862-a3b4514d4a8a"
   },
   "outputs": [
    {
     "data": {
      "text/plain": [
       "(0.9153403119017756, 0.034140888087396355)"
      ]
     },
     "execution_count": 73,
     "metadata": {},
     "output_type": "execute_result"
    }
   ],
   "source": [
    "score=cross_val_score(Ab_dt,X,Y,cv=kf,scoring='f1_weighted')\n",
    "np.mean(score),np.std(score,ddof=1)"
   ]
  },
  {
   "cell_type": "code",
   "execution_count": 74,
   "metadata": {
    "colab": {
     "base_uri": "https://localhost:8080/"
    },
    "executionInfo": {
     "elapsed": 355191,
     "status": "ok",
     "timestamp": 1630424832596,
     "user": {
      "displayName": "Mahesh Anand",
      "photoUrl": "https://lh3.googleusercontent.com/a-/AOh14Ghy47CXBCGfpGm71ElmYPDEY5c3AQB5tdq4ROpemw=s64",
      "userId": "06788086636039591358"
     },
     "user_tz": -330
    },
    "id": "WjcCmoD4gu76",
    "outputId": "c695bfb4-f25d-4bb3-bc5d-d3046cdf0b17"
   },
   "outputs": [
    {
     "data": {
      "text/plain": [
       "GridSearchCV(cv=KFold(n_splits=3, random_state=3, shuffle=True),\n",
       "             estimator=AdaBoostClassifier(base_estimator=LogisticRegression(),\n",
       "                                          random_state=0),\n",
       "             param_grid={'n_estimators': array([ 1,  2,  3,  4,  5,  6,  7,  8,  9, 10, 11, 12, 13, 14, 15, 16, 17,\n",
       "       18, 19, 20, 21, 22, 23, 24, 25, 26, 27, 28, 29, 30, 31, 32, 33, 34,\n",
       "       35, 36, 37, 38, 39, 40, 41, 42, 43, 44, 45, 46, 47, 48, 49, 50, 51,\n",
       "       52, 53, 54, 55, 56, 57, 58, 59, 60, 61, 62, 63, 64, 65, 66, 67, 68,\n",
       "       69, 70, 71, 72, 73, 74, 75, 76, 77, 78, 79, 80, 81, 82, 83, 84, 85,\n",
       "       86, 87, 88, 89, 90, 91, 92, 93, 94, 95, 96, 97, 98, 99])},\n",
       "             scoring='f1_weighted')"
      ]
     },
     "execution_count": 74,
     "metadata": {},
     "output_type": "execute_result"
    }
   ],
   "source": [
    "#Let us boost the NB model\n",
    "Ab=AdaBoostClassifier(base_estimator=LR,random_state=0)\n",
    "params={'n_estimators':np.arange(1,100)}\n",
    "kf=KFold(n_splits=3,shuffle=True,random_state=3)\n",
    "GS=GridSearchCV(Ab,params,cv=kf,scoring='f1_weighted')\n",
    "GS.fit(X,Y)"
   ]
  },
  {
   "cell_type": "code",
   "execution_count": 75,
   "metadata": {
    "colab": {
     "base_uri": "https://localhost:8080/"
    },
    "executionInfo": {
     "elapsed": 356,
     "status": "ok",
     "timestamp": 1630424856230,
     "user": {
      "displayName": "Mahesh Anand",
      "photoUrl": "https://lh3.googleusercontent.com/a-/AOh14Ghy47CXBCGfpGm71ElmYPDEY5c3AQB5tdq4ROpemw=s64",
      "userId": "06788086636039591358"
     },
     "user_tz": -330
    },
    "id": "hizmjbmShA1f",
    "outputId": "6d6e4f95-b5e5-4b79-830d-5aa5b66b1f1b"
   },
   "outputs": [
    {
     "data": {
      "text/plain": [
       "{'n_estimators': 11}"
      ]
     },
     "execution_count": 75,
     "metadata": {},
     "output_type": "execute_result"
    }
   ],
   "source": [
    "GS.best_params_"
   ]
  },
  {
   "cell_type": "markdown",
   "metadata": {
    "id": "7LgY6LighVOC"
   },
   "source": [
    "* n_estimator=1 indicates there is no scope for boosting"
   ]
  },
  {
   "cell_type": "code",
   "execution_count": 76,
   "metadata": {
    "id": "AS3uQOblhD-P"
   },
   "outputs": [],
   "source": [
    "Ab_NB=AdaBoostClassifier(n_estimators=3,random_state=0)"
   ]
  },
  {
   "cell_type": "code",
   "execution_count": 77,
   "metadata": {
    "id": "Cb4xR88W4AJq"
   },
   "outputs": [],
   "source": [
    "Ab_LR=AdaBoostClassifier(base_estimator=LR,n_estimators=11,random_state=0)"
   ]
  },
  {
   "cell_type": "code",
   "execution_count": 78,
   "metadata": {
    "id": "qqz0okJnhPeS"
   },
   "outputs": [
    {
     "data": {
      "text/plain": [
       "(0.8619741400982708, 0.09046354866767242)"
      ]
     },
     "execution_count": 78,
     "metadata": {},
     "output_type": "execute_result"
    }
   ],
   "source": [
    "score=cross_val_score(Ab_dt,X,Y,cv=kf,scoring='f1_weighted')\n",
    "np.mean(score),np.std(score,ddof=1)"
   ]
  },
  {
   "cell_type": "code",
   "execution_count": 79,
   "metadata": {
    "colab": {
     "base_uri": "https://localhost:8080/"
    },
    "executionInfo": {
     "elapsed": 1361,
     "status": "ok",
     "timestamp": 1630424950451,
     "user": {
      "displayName": "Mahesh Anand",
      "photoUrl": "https://lh3.googleusercontent.com/a-/AOh14Ghy47CXBCGfpGm71ElmYPDEY5c3AQB5tdq4ROpemw=s64",
      "userId": "06788086636039591358"
     },
     "user_tz": -330
    },
    "id": "8XyXfu154Zo6",
    "outputId": "94616c59-7c66-465a-a02a-07d45106e541"
   },
   "outputs": [
    {
     "data": {
      "text/plain": [
       "(0.9498095023205563, 0.032823439712756274)"
      ]
     },
     "execution_count": 79,
     "metadata": {},
     "output_type": "execute_result"
    }
   ],
   "source": [
    "score=cross_val_score(Ab_LR,X,Y,cv=kf,scoring='f1_weighted')\n",
    "np.mean(score),np.std(score,ddof=1)"
   ]
  },
  {
   "cell_type": "code",
   "execution_count": 80,
   "metadata": {
    "colab": {
     "base_uri": "https://localhost:8080/"
    },
    "executionInfo": {
     "elapsed": 16494,
     "status": "ok",
     "timestamp": 1630335577972,
     "user": {
      "displayName": "Mahesh Anand",
      "photoUrl": "https://lh3.googleusercontent.com/a-/AOh14Ghy47CXBCGfpGm71ElmYPDEY5c3AQB5tdq4ROpemw=s64",
      "userId": "06788086636039591358"
     },
     "user_tz": -330
    },
    "id": "8zRuixGlkM5U",
    "outputId": "3e9836f1-5904-4eef-de62-284cc46eaf08"
   },
   "outputs": [
    {
     "data": {
      "text/plain": [
       "GridSearchCV(cv=KFold(n_splits=3, random_state=0, shuffle=True),\n",
       "             estimator=AdaBoostClassifier(base_estimator=RandomForestClassifier(criterion='entropy',\n",
       "                                                                                n_estimators=66,\n",
       "                                                                                random_state=0),\n",
       "                                          random_state=0),\n",
       "             param_grid={'n_estimators': array([ 1,  2,  3,  4,  5,  6,  7,  8,  9, 10, 11, 12, 13, 14, 15, 16, 17,\n",
       "       18, 19, 20, 21, 22, 23, 24, 25, 26, 27, 28, 29, 30, 31, 32, 33, 34,\n",
       "       35, 36, 37, 38, 39, 40, 41, 42, 43, 44, 45, 46, 47, 48, 49])},\n",
       "             scoring='f1_weighted')"
      ]
     },
     "execution_count": 80,
     "metadata": {},
     "output_type": "execute_result"
    }
   ],
   "source": [
    "#Let us boost the RF model\n",
    "Ab=AdaBoostClassifier(base_estimator=RF_tuned,random_state=0)\n",
    "params={'n_estimators':np.arange(1,50)}\n",
    "kf=KFold(n_splits=3,shuffle=True,random_state=0)\n",
    "GS=GridSearchCV(Ab,params,cv=kf,scoring='f1_weighted')\n",
    "GS.fit(X,Y)"
   ]
  },
  {
   "cell_type": "code",
   "execution_count": 81,
   "metadata": {
    "colab": {
     "base_uri": "https://localhost:8080/"
    },
    "executionInfo": {
     "elapsed": 423,
     "status": "ok",
     "timestamp": 1630335588362,
     "user": {
      "displayName": "Mahesh Anand",
      "photoUrl": "https://lh3.googleusercontent.com/a-/AOh14Ghy47CXBCGfpGm71ElmYPDEY5c3AQB5tdq4ROpemw=s64",
      "userId": "06788086636039591358"
     },
     "user_tz": -330
    },
    "id": "7PccIuhlkiKZ",
    "outputId": "72aa505d-1523-4792-c740-85d0a3e9ae7c"
   },
   "outputs": [
    {
     "data": {
      "text/plain": [
       "{'n_estimators': 1}"
      ]
     },
     "execution_count": 81,
     "metadata": {},
     "output_type": "execute_result"
    }
   ],
   "source": [
    "GS.best_params_"
   ]
  },
  {
   "cell_type": "markdown",
   "metadata": {
    "id": "42hMIxJrkwZW"
   },
   "source": [
    "no scope for boosting Rf"
   ]
  },
  {
   "cell_type": "code",
   "execution_count": 82,
   "metadata": {
    "colab": {
     "base_uri": "https://localhost:8080/"
    },
    "executionInfo": {
     "elapsed": 43173,
     "status": "ok",
     "timestamp": 1630462215454,
     "user": {
      "displayName": "Mahesh Anand",
      "photoUrl": "https://lh3.googleusercontent.com/a-/AOh14Ghy47CXBCGfpGm71ElmYPDEY5c3AQB5tdq4ROpemw=s64",
      "userId": "06788086636039591358"
     },
     "user_tz": -330
    },
    "id": "Xc2PYKZ3HU7U",
    "outputId": "745f2c84-2728-4916-ca18-cea89d780f36"
   },
   "outputs": [
    {
     "data": {
      "text/plain": [
       "GridSearchCV(cv=KFold(n_splits=3, random_state=0, shuffle=True),\n",
       "             estimator=GradientBoostingClassifier(random_state=0),\n",
       "             param_grid={'n_estimators': array([ 1,  2,  3,  4,  5,  6,  7,  8,  9, 10, 11, 12, 13, 14, 15, 16, 17,\n",
       "       18, 19, 20, 21, 22, 23, 24, 25, 26, 27, 28, 29, 30, 31, 32, 33, 34,\n",
       "       35, 36, 37, 38, 39, 40, 41, 42, 43, 44, 45, 46, 47, 48, 49, 50, 51,\n",
       "       52, 53, 54, 55, 56, 57, 58, 59, 60, 61, 62, 63, 64, 65, 66, 67, 68,\n",
       "       69, 70, 71, 72, 73, 74, 75, 76, 77, 78, 79, 80, 81, 82, 83, 84, 85,\n",
       "       86, 87, 88, 89, 90, 91, 92, 93, 94, 95, 96, 97, 98, 99])},\n",
       "             scoring='f1_weighted')"
      ]
     },
     "execution_count": 82,
     "metadata": {},
     "output_type": "execute_result"
    }
   ],
   "source": [
    "GB=GradientBoostingClassifier(random_state=0)\n",
    "params={'n_estimators':np.arange(1,100)}\n",
    "kf=KFold(n_splits=3,shuffle=True,random_state=0)\n",
    "GS=GridSearchCV(GB,params,cv=kf,scoring='f1_weighted')\n",
    "GS.fit(X,Y)"
   ]
  },
  {
   "cell_type": "code",
   "execution_count": 83,
   "metadata": {
    "colab": {
     "base_uri": "https://localhost:8080/"
    },
    "executionInfo": {
     "elapsed": 315,
     "status": "ok",
     "timestamp": 1630462223617,
     "user": {
      "displayName": "Mahesh Anand",
      "photoUrl": "https://lh3.googleusercontent.com/a-/AOh14Ghy47CXBCGfpGm71ElmYPDEY5c3AQB5tdq4ROpemw=s64",
      "userId": "06788086636039591358"
     },
     "user_tz": -330
    },
    "id": "-qofA83MHp4J",
    "outputId": "055ee3f7-d988-4161-edb5-ce4b8abed6cc"
   },
   "outputs": [
    {
     "data": {
      "text/plain": [
       "{'n_estimators': 14}"
      ]
     },
     "execution_count": 83,
     "metadata": {},
     "output_type": "execute_result"
    }
   ],
   "source": [
    "GS.best_params_"
   ]
  },
  {
   "cell_type": "code",
   "execution_count": null,
   "metadata": {},
   "outputs": [],
   "source": []
  },
  {
   "cell_type": "code",
   "execution_count": 85,
   "metadata": {},
   "outputs": [],
   "source": [
    "from xgboost import XGBClassifier"
   ]
  },
  {
   "cell_type": "code",
   "execution_count": 88,
   "metadata": {},
   "outputs": [
    {
     "name": "stdout",
     "output_type": "stream",
     "text": [
      "[17:02:17] WARNING: C:/Users/Administrator/workspace/xgboost-win64_release_1.5.1/src/learner.cc:1115: Starting in XGBoost 1.3.0, the default evaluation metric used with the objective 'multi:softprob' was changed from 'merror' to 'mlogloss'. Explicitly set eval_metric if you'd like to restore the old behavior.\n"
     ]
    },
    {
     "data": {
      "text/plain": [
       "XGBClassifier(base_score=0.5, booster='gbtree', colsample_bylevel=1,\n",
       "              colsample_bynode=1, colsample_bytree=1, enable_categorical=False,\n",
       "              gamma=2, gpu_id=-1, importance_type=None,\n",
       "              interaction_constraints='', learning_rate=0.1, max_delta_step=0,\n",
       "              max_depth=6, min_child_weight=1, missing=nan,\n",
       "              monotone_constraints='()', n_estimators=100, n_jobs=8,\n",
       "              num_parallel_tree=1, objective='multi:softprob', predictor='auto',\n",
       "              random_state=0, reg_alpha=0, reg_lambda=1, scale_pos_weight=None,\n",
       "              subsample=1, tree_method='exact', validate_parameters=1,\n",
       "              verbosity=None)"
      ]
     },
     "execution_count": 88,
     "metadata": {},
     "output_type": "execute_result"
    }
   ],
   "source": [
    "xgb = XGBClassifier(gamma=2,learning_rate=0.1)\n",
    "\n",
    "xgb.fit(X,Y)"
   ]
  },
  {
   "cell_type": "code",
   "execution_count": 94,
   "metadata": {
    "id": "2sIMg3aJHso8"
   },
   "outputs": [],
   "source": [
    "GB_tuned=GradientBoostingClassifier(n_estimators=58,random_state=0)"
   ]
  },
  {
   "cell_type": "code",
   "execution_count": 95,
   "metadata": {
    "id": "vrrP-SM4Iohe"
   },
   "outputs": [],
   "source": [
    "from sklearn.ensemble import VotingClassifier\n",
    "Stacked = VotingClassifier(estimators = [('BoostedLR',Ab_LR),\n",
    "                                         ('RandomForest', RF_tuned), \n",
    "                                         ('GBoost',GB_tuned)],voting='soft')"
   ]
  },
  {
   "cell_type": "code",
   "execution_count": 97,
   "metadata": {
    "id": "M3m81mnrkkyM"
   },
   "outputs": [],
   "source": [
    "models = []\n",
    "models.append(('Logistic', LR))\n",
    "models.append(('NaiveBayes', NB))\n",
    "models.append(('KNN',knn_tuned))\n",
    "models.append(('DecisionTree',DT_tuned))\n",
    "models.append(('RandomForest',RF_tuned))\n",
    "models.append(('BoostedDT',Ab_dt))\n",
    "models.append(('BoostedLR',Ab_LR))\n",
    "models.append(('BoostedNB',Ab_NB))\n",
    "models.append(('GBoost',GB_tuned))\n",
    "models.append(('Stacked',Stacked))\n",
    "models.append(('BoostedXGB',xgb))"
   ]
  },
  {
   "cell_type": "code",
   "execution_count": 98,
   "metadata": {
    "colab": {
     "base_uri": "https://localhost:8080/",
     "height": 685
    },
    "executionInfo": {
     "elapsed": 2683,
     "status": "ok",
     "timestamp": 1630595843362,
     "user": {
      "displayName": "Mahesh Anand",
      "photoUrl": "https://lh3.googleusercontent.com/a-/AOh14Ghy47CXBCGfpGm71ElmYPDEY5c3AQB5tdq4ROpemw=s64",
      "userId": "06788086636039591358"
     },
     "user_tz": -330
    },
    "id": "lxJo0A4IH20T",
    "outputId": "5d5d7638-3cea-41df-9018-1e38f140ea48"
   },
   "outputs": [
    {
     "name": "stdout",
     "output_type": "stream",
     "text": [
      "Logistic: 0.965819 (0.059203)\n",
      "NaiveBayes: 0.949093 (0.000312)\n",
      "KNN: 0.977110 (0.039647)\n",
      "DecisionTree: 0.898924 (0.051281)\n",
      "RandomForest: 0.977415 (0.026071)\n",
      "BoostedDT: 0.909769 (0.042723)\n",
      "BoostedLR: 0.977268 (0.026103)\n",
      "BoostedNB: 0.909769 (0.042723)\n",
      "GBoost: 0.938274 (0.025709)\n",
      "Stacked: 0.977589 (0.009764)\n",
      "[17:04:54] WARNING: C:/Users/Administrator/workspace/xgboost-win64_release_1.5.1/src/learner.cc:1115: Starting in XGBoost 1.3.0, the default evaluation metric used with the objective 'multi:softprob' was changed from 'merror' to 'mlogloss'. Explicitly set eval_metric if you'd like to restore the old behavior.\n",
      "[17:04:54] WARNING: C:/Users/Administrator/workspace/xgboost-win64_release_1.5.1/src/learner.cc:1115: Starting in XGBoost 1.3.0, the default evaluation metric used with the objective 'multi:softprob' was changed from 'merror' to 'mlogloss'. Explicitly set eval_metric if you'd like to restore the old behavior.\n",
      "[17:04:54] WARNING: C:/Users/Administrator/workspace/xgboost-win64_release_1.5.1/src/learner.cc:1115: Starting in XGBoost 1.3.0, the default evaluation metric used with the objective 'multi:softprob' was changed from 'merror' to 'mlogloss'. Explicitly set eval_metric if you'd like to restore the old behavior.\n",
      "BoostedXGB: 0.955007 (0.025903)\n"
     ]
    },
    {
     "data": {
      "image/png": "[encoded data removed]",
      "text/plain": [
       "<Figure size 1080x576 with 1 Axes>"
      ]
     },
     "metadata": {
      "needs_background": "light"
     },
     "output_type": "display_data"
    }
   ],
   "source": [
    "# evaluate each model in turn\n",
    "results = []\n",
    "names = []\n",
    "for name, model in models:\n",
    "\tkfold = KFold(shuffle=True,n_splits=3,random_state=0)\n",
    "\tcv_results = cross_val_score(model, X_std, Y,cv=kfold, scoring='f1_weighted')\n",
    "\tresults.append(cv_results)\n",
    "\tnames.append(name)\n",
    "\tprint(\"%s: %f (%f)\" % (name, np.mean(cv_results),np.std(cv_results,ddof=1)))\n",
    "#print(results)\n",
    "   # boxplot algorithm comparison\n",
    "plt.rcParams['figure.figsize'] = [15,8]\n",
    "fig = plt.figure()\n",
    "fig.suptitle('Algorithm Comparison')\n",
    "ax = fig.add_subplot(111)\n",
    "plt.boxplot(results)\n",
    "ax.set_xticklabels(names)\n",
    "plt.show()"
   ]
  }
 ],
 "metadata": {
  "colab": {
   "collapsed_sections": [],
   "name": "Wine_Quality_Prediction_all_model_summary.ipynb",
   "provenance": []
  },
  "kernelspec": {
   "display_name": "Python 3 (ipykernel)",
   "language": "python",
   "name": "python3"
  },
  "language_info": {
   "codemirror_mode": {
    "name": "ipython",
    "version": 3
   },
   "file_extension": ".py",
   "mimetype": "text/x-python",
   "name": "python",
   "nbconvert_exporter": "python",
   "pygments_lexer": "ipython3",
   "version": "3.9.7"
  }
 },
 "nbformat": 4,
 "nbformat_minor": 1
}
